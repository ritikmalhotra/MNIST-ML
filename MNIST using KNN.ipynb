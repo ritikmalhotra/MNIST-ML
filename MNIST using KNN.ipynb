{
 "cells": [
  {
   "cell_type": "markdown",
   "metadata": {},
   "source": [
    "## MNIST using K-NN Algorithm"
   ]
  },
  {
   "cell_type": "code",
   "execution_count": 1,
   "metadata": {},
   "outputs": [],
   "source": [
    "import numpy as np\n",
    "import statistics"
   ]
  },
  {
   "cell_type": "code",
   "execution_count": 2,
   "metadata": {},
   "outputs": [],
   "source": [
    "from sklearn.datasets import load_digits\n",
    "digits = load_digits()"
   ]
  },
  {
   "cell_type": "code",
   "execution_count": 5,
   "metadata": {},
   "outputs": [],
   "source": [
    "from sklearn.model_selection import train_test_split\n",
    "x_train, x_test, y_train, y_test = train_test_split(digits.data, digits.target,test_size=0.20, random_state=0)\n",
    "x_train, x_validation, y_train, y_validation = train_test_split(x_train, y_train,test_size=0.20, random_state=0)"
   ]
  },
  {
   "cell_type": "code",
   "execution_count": 6,
   "metadata": {},
   "outputs": [
    {
     "name": "stdout",
     "output_type": "stream",
     "text": [
      "(1149, 64)\n",
      "(1149,)\n",
      "(288, 64)\n",
      "(288,)\n",
      "(360, 64)\n",
      "(360,)\n"
     ]
    }
   ],
   "source": [
    "print(x_train.shape)\n",
    "print(y_train.shape)\n",
    "print(x_validation.shape)\n",
    "print(y_validation.shape)\n",
    "print(x_test.shape)\n",
    "print(y_test.shape)"
   ]
  },
  {
   "cell_type": "code",
   "execution_count": 7,
   "metadata": {},
   "outputs": [],
   "source": [
    "def eucledian_distance(v1,v2):\n",
    "    \n",
    "    distance = 0\n",
    "    \n",
    "    for i in range (len(v1)):\n",
    "        distance = distance + (v1[i]-v2[i])**2\n",
    "                   \n",
    "    return np.sqrt(distance)"
   ]
  },
  {
   "cell_type": "code",
   "execution_count": 8,
   "metadata": {},
   "outputs": [],
   "source": [
    "def majority(labels):\n",
    "    return statistics.mode(labels)"
   ]
  },
  {
   "cell_type": "code",
   "execution_count": 9,
   "metadata": {},
   "outputs": [],
   "source": [
    "def predict(train_x,train_y,test,test_y,k):\n",
    "    \n",
    "   \n",
    "    predictions = []\n",
    "    \n",
    "    \n",
    "    \n",
    "    for j in range(len(test)):\n",
    "        neighbors = []\n",
    "        distance = []\n",
    "        for i in range (len(train_x)):\n",
    "            dist = eucledian_distance(train_x[i],test[j])\n",
    "            distance.append((train_y[i],dist))\n",
    "    \n",
    "        distance.sort(key = lambda x: x[1])\n",
    "    \n",
    "        for i in range (k):\n",
    "            neighbors.append(distance[i][0])\n",
    "        pred = majority(neighbors)\n",
    "        \n",
    "        predictions.append(pred)  \n",
    "        \n",
    "    return predictions"
   ]
  },
  {
   "cell_type": "code",
   "execution_count": 16,
   "metadata": {},
   "outputs": [],
   "source": [
    "def errorrate(x_train,y_train,x_test,y_test,k):\n",
    "    predicted_classes = (predict(x_train,y_train,x_test,y_test,k))\n",
    "    error = np.mean(predicted_classes != y_test.flatten())\n",
    "    return error * 100"
   ]
  },
  {
   "cell_type": "code",
   "execution_count": 17,
   "metadata": {},
   "outputs": [],
   "source": [
    "optimalk = []\n",
    "for k in range (1,20):\n",
    "    acc = errorrate(x_train,y_train,x_validation,y_validation,k)\n",
    "    optimalk.append((acc,k))    "
   ]
  },
  {
   "cell_type": "code",
   "execution_count": 18,
   "metadata": {},
   "outputs": [
    {
     "name": "stdout",
     "output_type": "stream",
     "text": [
      "[(1.3888888888888888, 1), (1.3888888888888888, 2), (1.0416666666666665, 3), (1.0416666666666665, 4), (1.0416666666666665, 5), (1.3888888888888888, 6), (1.0416666666666665, 7), (1.3888888888888888, 8), (1.0416666666666665, 9), (1.3888888888888888, 10), (1.0416666666666665, 11), (1.0416666666666665, 12), (2.083333333333333, 13), (1.3888888888888888, 14), (2.083333333333333, 15), (2.7777777777777777, 16), (2.7777777777777777, 17), (2.430555555555556, 18), (3.125, 19)]\n"
     ]
    }
   ],
   "source": [
    "print(optimalk)"
   ]
  },
  {
   "cell_type": "code",
   "execution_count": null,
   "metadata": {},
   "outputs": [],
   "source": []
  },
  {
   "cell_type": "code",
   "execution_count": null,
   "metadata": {},
   "outputs": [],
   "source": []
  },
  {
   "cell_type": "code",
   "execution_count": null,
   "metadata": {},
   "outputs": [],
   "source": []
  },
  {
   "cell_type": "code",
   "execution_count": null,
   "metadata": {},
   "outputs": [],
   "source": []
  },
  {
   "cell_type": "code",
   "execution_count": null,
   "metadata": {},
   "outputs": [],
   "source": []
  }
 ],
 "metadata": {
  "kernelspec": {
   "display_name": "Python 3",
   "language": "python",
   "name": "python3"
  },
  "language_info": {
   "codemirror_mode": {
    "name": "ipython",
    "version": 3
   },
   "file_extension": ".py",
   "mimetype": "text/x-python",
   "name": "python",
   "nbconvert_exporter": "python",
   "pygments_lexer": "ipython3",
   "version": "3.8.2"
  }
 },
 "nbformat": 4,
 "nbformat_minor": 4
}
