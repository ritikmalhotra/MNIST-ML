{
 "cells": [
  {
   "cell_type": "code",
   "execution_count": 169,
   "metadata": {},
   "outputs": [],
   "source": [
    "from sklearn.datasets import load_digits\n",
    "digits = load_digits()\n"
   ]
  },
  {
   "cell_type": "code",
   "execution_count": 131,
   "metadata": {},
   "outputs": [
    {
     "data": {
      "text/plain": [
       "numpy.ndarray"
      ]
     },
     "execution_count": 131,
     "metadata": {},
     "output_type": "execute_result"
    }
   ],
   "source": [
    "type(digits.data)"
   ]
  },
  {
   "cell_type": "code",
   "execution_count": 132,
   "metadata": {},
   "outputs": [
    {
     "data": {
      "text/plain": [
       "numpy.ndarray"
      ]
     },
     "execution_count": 132,
     "metadata": {},
     "output_type": "execute_result"
    }
   ],
   "source": [
    "type(digits.target)"
   ]
  },
  {
   "cell_type": "code",
   "execution_count": 133,
   "metadata": {},
   "outputs": [
    {
     "name": "stdout",
     "output_type": "stream",
     "text": [
      "Image data shape (1797, 64)\n"
     ]
    }
   ],
   "source": [
    "print('Image data shape',digits.data.shape)"
   ]
  },
  {
   "cell_type": "code",
   "execution_count": 134,
   "metadata": {},
   "outputs": [
    {
     "name": "stdout",
     "output_type": "stream",
     "text": [
      "Label data shape (1797,)\n"
     ]
    }
   ],
   "source": [
    "print('Label data shape',digits.target.shape)"
   ]
  },
  {
   "cell_type": "code",
   "execution_count": 135,
   "metadata": {},
   "outputs": [],
   "source": [
    "import matplotlib.pyplot as plt \n",
    "import numpy as np"
   ]
  },
  {
   "cell_type": "code",
   "execution_count": 136,
   "metadata": {},
   "outputs": [
    {
     "data": {
      "image/png": "[encoded data removed]",
      "text/plain": [
       "<Figure size 1440x288 with 10 Axes>"
      ]
     },
     "metadata": {
      "needs_background": "light"
     },
     "output_type": "display_data"
    }
   ],
   "source": [
    "import numpy as np \n",
    "import matplotlib.pyplot as plt\n",
    "plt.figure(figsize=(20,4))\n",
    "for index, (image, label) in enumerate(zip(digits.data[0:10], digits.target[0:10])):\n",
    " plt.subplot(1, 10, index + 1)\n",
    " plt.imshow(np.reshape(image, (8,8)), cmap=plt.cm.gray)\n",
    " plt.title('Training: %i\\n' % label, fontsize = 20)"
   ]
  },
  {
   "cell_type": "code",
   "execution_count": 137,
   "metadata": {},
   "outputs": [],
   "source": [
    "from sklearn.model_selection import train_test_split\n",
    "x_train, x_test, y_train, y_test = train_test_split(digits.data, digits.target, test_size=0.25, random_state=0)"
   ]
  },
  {
   "cell_type": "code",
   "execution_count": 138,
   "metadata": {},
   "outputs": [],
   "source": [
    "def sigmoid(z):\n",
    "    return 1/(1+np.exp(-z))"
   ]
  },
  {
   "cell_type": "code",
   "execution_count": 139,
   "metadata": {},
   "outputs": [],
   "source": [
    "def costFunctionReg(theta, X, y,lmbda):\n",
    "    m = len(y)\n",
    "    e=10**(-6) \n",
    "    temp1 = np.multiply(y, np.log(sigmoid(np.dot(X, theta)+e)))\n",
    "    temp2 = np.multiply(1-y, np.log(1-sigmoid(np.dot(X, theta))+e))\n",
    "    return np.sum(temp1 + temp2) / (-m) + np.sum(theta[1:]**2) * lmbda / (2*m)"
   ]
  },
  {
   "cell_type": "code",
   "execution_count": 140,
   "metadata": {},
   "outputs": [],
   "source": [
    "def gradRegularization(theta, X, y,lmbda):\n",
    "    m = len(y)\n",
    "    temp = sigmoid(np.dot(X, theta)) - y\n",
    "    temp = np.dot(temp.T, X).T / m + theta * lmbda / m\n",
    "    temp[0] = temp[0] - theta[0] * lmbda / m\n",
    "    return temp"
   ]
  },
  {
   "cell_type": "code",
   "execution_count": 141,
   "metadata": {},
   "outputs": [],
   "source": [
    "X = x_train\n",
    "Y = y_train\n"
   ]
  },
  {
   "cell_type": "code",
   "execution_count": 142,
   "metadata": {},
   "outputs": [
    {
     "data": {
      "text/plain": [
       "(1347, 65)"
      ]
     },
     "execution_count": 142,
     "metadata": {},
     "output_type": "execute_result"
    }
   ],
   "source": [
    "m = len(Y)\n",
    "ones = np.ones((m,1))\n",
    "X = np.hstack((ones, X))\n",
    "X.shape"
   ]
  },
  {
   "cell_type": "code",
   "execution_count": 143,
   "metadata": {},
   "outputs": [],
   "source": [
    "(m,n) = X.shape"
   ]
  },
  {
   "cell_type": "code",
   "execution_count": 144,
   "metadata": {},
   "outputs": [
    {
     "data": {
      "text/plain": [
       "(1347, 65)"
      ]
     },
     "execution_count": 144,
     "metadata": {},
     "output_type": "execute_result"
    }
   ],
   "source": [
    "m,n"
   ]
  },
  {
   "cell_type": "code",
   "execution_count": 145,
   "metadata": {},
   "outputs": [
    {
     "data": {
      "text/plain": [
       "numpy.ndarray"
      ]
     },
     "execution_count": 145,
     "metadata": {},
     "output_type": "execute_result"
    }
   ],
   "source": [
    "type(digits.data)"
   ]
  },
  {
   "cell_type": "code",
   "execution_count": 146,
   "metadata": {},
   "outputs": [],
   "source": [
    "import scipy"
   ]
  },
  {
   "cell_type": "code",
   "execution_count": 168,
   "metadata": {},
   "outputs": [
    {
     "name": "stdout",
     "output_type": "stream",
     "text": [
      "Warning: Maximum number of iterations has been exceeded.\n",
      "         Current function value: 0.014070\n",
      "         Iterations: 5\n",
      "         Function evaluations: 13\n",
      "         Gradient evaluations: 13\n",
      "Warning: Maximum number of iterations has been exceeded.\n",
      "         Current function value: 0.097157\n",
      "         Iterations: 5\n",
      "         Function evaluations: 12\n",
      "         Gradient evaluations: 12\n",
      "Warning: Maximum number of iterations has been exceeded.\n",
      "         Current function value: 0.024841\n",
      "         Iterations: 5\n",
      "         Function evaluations: 11\n",
      "         Gradient evaluations: 11\n",
      "Warning: Maximum number of iterations has been exceeded.\n",
      "         Current function value: 0.065337\n",
      "         Iterations: 5\n",
      "         Function evaluations: 11\n",
      "         Gradient evaluations: 11\n",
      "Warning: Maximum number of iterations has been exceeded.\n",
      "         Current function value: 0.029023\n",
      "         Iterations: 5\n",
      "         Function evaluations: 12\n",
      "         Gradient evaluations: 12\n",
      "Warning: Maximum number of iterations has been exceeded.\n",
      "         Current function value: 0.032628\n",
      "         Iterations: 5\n",
      "         Function evaluations: 9\n",
      "         Gradient evaluations: 9\n",
      "Warning: Maximum number of iterations has been exceeded.\n",
      "         Current function value: 0.028947\n",
      "         Iterations: 5\n",
      "         Function evaluations: 11\n",
      "         Gradient evaluations: 11\n",
      "Warning: Maximum number of iterations has been exceeded.\n",
      "         Current function value: 0.019391\n",
      "         Iterations: 5\n",
      "         Function evaluations: 12\n",
      "         Gradient evaluations: 12\n",
      "Warning: Maximum number of iterations has been exceeded.\n",
      "         Current function value: 0.123224\n",
      "         Iterations: 5\n",
      "         Function evaluations: 18\n",
      "         Gradient evaluations: 15\n",
      "Warning: Maximum number of iterations has been exceeded.\n",
      "         Current function value: 0.094005\n",
      "         Iterations: 5\n",
      "         Function evaluations: 11\n",
      "         Gradient evaluations: 11\n"
     ]
    }
   ],
   "source": [
    "lmbda = 0.1\n",
    "k = 10\n",
    "theta = np.zeros((k,n)) #inital parameters\n",
    "for i in range(k):\n",
    "    digit_class = i\n",
    "    theta[i] = scipy.optimize.fmin_cg(f = costFunctionReg, x0 = theta[i],  fprime = gradRegularization, args = (X, (Y == digit_class).flatten(), lmbda), maxiter = 5)"
   ]
  },
  {
   "cell_type": "code",
   "execution_count": 148,
   "metadata": {},
   "outputs": [
    {
     "data": {
      "text/plain": [
       "array([[-6.93328040e-03,  0.00000000e+00, -8.43373866e-03,\n",
       "        -3.87906712e-02,  2.52440484e-02, -5.59100519e-02,\n",
       "        -1.13847535e-01, -4.00987350e-02, -3.50399323e-03,\n",
       "        -9.02561979e-05, -3.28347647e-02,  2.03819006e-02,\n",
       "         2.05217251e-02,  9.58640516e-02,  1.43144800e-01,\n",
       "        -2.76475674e-02, -2.89307956e-03, -2.59948422e-05,\n",
       "         1.86396250e-02,  5.44322635e-02, -2.68911881e-02,\n",
       "        -1.11821658e-01,  2.08891888e-01,  1.54804559e-02,\n",
       "        -2.50070017e-03, -1.23292288e-05,  3.54466852e-02,\n",
       "         4.56788007e-03, -1.40748986e-01, -2.72953567e-01,\n",
       "         5.86687754e-02,  3.76931954e-02, -6.55953672e-04,\n",
       "         0.00000000e+00,  1.36523484e-02,  5.30819175e-02,\n",
       "        -1.52612882e-01, -2.96308913e-01, -6.79734993e-02,\n",
       "         3.51337499e-02,  0.00000000e+00, -1.69651540e-03,\n",
       "        -6.09804027e-02,  9.61551567e-02, -1.42459994e-01,\n",
       "        -1.84639061e-01, -8.52143863e-03, -1.05143184e-02,\n",
       "        -5.88896308e-04, -5.23196301e-03, -4.70256940e-02,\n",
       "         3.01373710e-02,  1.79815596e-02,  6.39305998e-02,\n",
       "         3.39984740e-02, -9.10938229e-02, -3.93103726e-03,\n",
       "        -1.38589993e-05, -8.19684733e-03, -5.02878950e-02,\n",
       "         3.16111420e-02, -9.98177053e-02, -1.28049870e-01,\n",
       "        -5.84548835e-02, -6.99344644e-03],\n",
       "       [-3.96548143e-03,  0.00000000e+00, -7.47274628e-03,\n",
       "        -4.44116847e-02, -6.31112457e-02, -1.01280609e-01,\n",
       "         4.21419179e-04, -7.47483344e-03, -3.20835121e-03,\n",
       "        -1.21309227e-04, -4.50376347e-02, -1.24087346e-01,\n",
       "        -2.06315228e-02,  2.75406960e-02, -2.72404783e-03,\n",
       "        -1.99443753e-02, -2.69691012e-03, -4.44563742e-05,\n",
       "        -2.59728432e-02, -4.78474968e-02,  1.36652061e-01,\n",
       "         1.23394154e-01, -2.15426262e-02, -2.47090159e-02,\n",
       "        -1.46265993e-03, -5.61812314e-05, -1.50405203e-02,\n",
       "        -2.81475287e-02,  8.69763080e-02,  3.82743055e-02,\n",
       "        -3.93170723e-02, -5.22829759e-02, -3.51933647e-05,\n",
       "         0.00000000e+00, -4.98585901e-02, -7.23780764e-02,\n",
       "         1.22335068e-02,  1.49291877e-02, -1.02831812e-01,\n",
       "        -7.67878660e-02,  0.00000000e+00, -3.09751811e-04,\n",
       "        -5.15285286e-02, -8.95387709e-02,  1.45397816e-02,\n",
       "         6.81843422e-02, -8.49325058e-02, -7.68569623e-02,\n",
       "        -7.73480285e-04, -3.06584125e-04, -1.85275672e-02,\n",
       "        -6.45585620e-02,  7.54873521e-03,  4.23901964e-02,\n",
       "        -2.37687461e-02, -3.39716372e-02,  1.02163390e-02,\n",
       "        -4.37175839e-05, -7.25870754e-03, -6.12145339e-02,\n",
       "        -6.16904107e-02, -1.70840828e-02,  4.38615983e-02,\n",
       "         3.04876325e-02,  3.30936455e-02],\n",
       "       [-3.35886719e-03,  0.00000000e+00,  1.30516564e-02,\n",
       "         5.80630447e-02, -6.86731016e-04, -3.99468496e-02,\n",
       "        -4.96573422e-02, -3.08824545e-02, -3.18522505e-03,\n",
       "         1.22820494e-04,  6.46425454e-02,  4.76414518e-02,\n",
       "        -4.06127320e-02,  3.87819947e-02, -1.39393062e-02,\n",
       "        -2.48789787e-02, -2.61200550e-03,  1.02103316e-04,\n",
       "         3.93124330e-02, -6.65675857e-02, -1.33186150e-01,\n",
       "         4.84635410e-02,  1.27765578e-02, -2.31890293e-02,\n",
       "        -1.24830103e-03, -1.87825228e-05, -4.83110662e-02,\n",
       "        -2.23702206e-01, -2.11918517e-01, -2.11654928e-03,\n",
       "        -3.62414766e-02, -5.04924779e-02, -3.79560863e-05,\n",
       "         0.00000000e+00, -6.17735614e-02, -1.80673262e-01,\n",
       "        -7.49470642e-02, -3.05586088e-02, -1.66769756e-01,\n",
       "        -8.09293485e-02,  0.00000000e+00, -2.49649539e-04,\n",
       "        -1.44570978e-02, -1.86175811e-02,  1.17933527e-01,\n",
       "        -5.02617400e-02, -1.83357068e-01, -7.45526036e-02,\n",
       "         1.32502007e-04,  1.42758471e-03,  2.83639044e-02,\n",
       "         7.47309305e-02,  1.05732946e-01,  4.69970193e-02,\n",
       "         3.26804981e-02,  6.53379523e-02,  6.96710875e-03,\n",
       "         5.39820368e-04,  1.65453590e-02,  6.65456295e-02,\n",
       "        -1.72763968e-02, -1.69969814e-02,  1.00006623e-01,\n",
       "         1.17353630e-01,  1.37502342e-02],\n",
       "       [-4.86338602e-03,  0.00000000e+00,  8.04189374e-03,\n",
       "         4.54383956e-02,  4.76266755e-03,  4.87570863e-02,\n",
       "         5.81714708e-02, -1.90115189e-02, -4.23180444e-03,\n",
       "        -5.19920280e-04,  3.90910452e-02,  1.12140958e-02,\n",
       "        -8.82142296e-02,  3.46777432e-03,  8.52819663e-02,\n",
       "         1.21715215e-02, -2.92446767e-03, -5.62407630e-05,\n",
       "        -4.17334513e-02, -2.74371282e-01, -1.37524955e-01,\n",
       "         1.19146869e-01, -3.61174870e-02, -4.37654490e-02,\n",
       "        -1.68117729e-03, -2.47670328e-05, -7.66656665e-02,\n",
       "        -2.90450141e-01, -4.19519570e-02,  7.53828465e-02,\n",
       "        -1.71697360e-01, -1.10004924e-01, -5.06880822e-05,\n",
       "         0.00000000e+00, -7.76478854e-02, -2.01954021e-01,\n",
       "        -6.61017982e-02,  1.16808247e-01,  1.71275506e-02,\n",
       "        -7.24561482e-02,  0.00000000e+00, -3.31141498e-04,\n",
       "        -3.37191415e-02, -1.74691394e-01, -2.12779221e-01,\n",
       "        -6.38707493e-02,  1.16563253e-01,  4.69714222e-02,\n",
       "        -1.33773029e-03, -3.32275426e-04,  1.77439347e-03,\n",
       "        -5.35316540e-02, -1.16967604e-01, -2.01444357e-02,\n",
       "         7.71861074e-02,  3.86143652e-02, -6.20757507e-03,\n",
       "        -2.57126776e-05,  3.87604189e-03,  6.75482142e-02,\n",
       "         1.88223297e-02, -5.81285880e-03, -1.61151153e-03,\n",
       "        -4.35621480e-02, -1.48513797e-02],\n",
       "       [-2.45703414e-03,  0.00000000e+00, -5.57741633e-03,\n",
       "        -6.82251065e-02, -8.73598430e-02, -6.28484593e-02,\n",
       "        -1.13304479e-01, -4.73746785e-02, -5.82936119e-03,\n",
       "        -8.99302775e-05, -2.84856199e-02, -1.01162511e-01,\n",
       "        -2.77476623e-02, -9.38028992e-02, -1.18116896e-01,\n",
       "        -3.35849816e-02, -6.74865028e-04, -2.61693199e-05,\n",
       "        -1.74143312e-02,  1.80816809e-02,  3.99141675e-02,\n",
       "        -2.35292115e-02, -1.59071120e-02,  2.18293318e-02,\n",
       "         5.06644869e-03,  3.70778493e-04,  5.40718438e-02,\n",
       "         8.33252609e-02, -5.91043374e-02, -1.83622149e-02,\n",
       "         3.69388574e-02,  6.44633143e-02,  3.94681180e-04,\n",
       "         0.00000000e+00,  1.12970993e-01,  7.65876254e-02,\n",
       "        -1.82669646e-02,  3.51363344e-02,  5.42170824e-02,\n",
       "         4.43428721e-02,  0.00000000e+00,  1.42912167e-03,\n",
       "         9.09003625e-02,  3.57147669e-02,  8.54676979e-02,\n",
       "         1.08709977e-01, -7.49631982e-03, -5.46268376e-02,\n",
       "        -8.34307766e-04,  1.80523684e-03,  1.75233157e-02,\n",
       "        -8.53320611e-02, -2.64827683e-02,  3.06783337e-02,\n",
       "        -1.30149238e-01, -9.31398363e-02, -4.93619200e-03,\n",
       "        -1.39015167e-05, -4.01086215e-03, -6.78456667e-02,\n",
       "        -7.42392525e-02, -6.24120646e-02, -1.30430295e-01,\n",
       "        -4.89126491e-02, -6.38689943e-03],\n",
       "       [-4.83053523e-03,  0.00000000e+00,  2.90671603e-02,\n",
       "         2.08194357e-01, -1.30843822e-03,  2.88114663e-02,\n",
       "         2.15117461e-01,  9.18121383e-02, -1.92903886e-02,\n",
       "         9.94978197e-05,  6.71738277e-02,  1.57251535e-01,\n",
       "        -3.17102916e-02, -1.00260199e-01, -1.52511297e-01,\n",
       "        -2.90225200e-02, -1.34798644e-02, -7.41537859e-05,\n",
       "         1.02934041e-01,  1.53334450e-01, -7.16919023e-02,\n",
       "        -2.63624147e-01, -4.01513542e-01, -1.24425174e-01,\n",
       "        -4.08158184e-03, -3.81146374e-05,  1.12583245e-01,\n",
       "         1.92566962e-01,  1.17336140e-01, -2.72637254e-02,\n",
       "        -1.61649068e-01, -1.18942186e-01, -7.12257501e-05,\n",
       "         0.00000000e+00, -3.49446412e-02, -1.36619296e-02,\n",
       "        -6.28325585e-02, -9.32045552e-02, -4.04288889e-02,\n",
       "        -4.04689917e-02,  0.00000000e+00, -4.65770507e-04,\n",
       "        -7.73635021e-02, -2.76614522e-01, -2.07982592e-01,\n",
       "        -1.01254367e-01,  6.59664730e-03, -1.67374159e-02,\n",
       "        -1.40629832e-03, -4.64315655e-04,  2.43674850e-03,\n",
       "        -9.83464845e-02, -1.09977597e-01,  2.26425352e-03,\n",
       "        -4.03852154e-02, -8.88120504e-02, -9.11856591e-03,\n",
       "        -3.57086288e-05,  3.08988206e-02,  2.10431779e-01,\n",
       "         7.44999554e-02, -1.11321377e-01, -1.74546378e-01,\n",
       "        -8.38131423e-02, -1.90552905e-02],\n",
       "       [-5.77127318e-03,  0.00000000e+00, -9.15515148e-03,\n",
       "        -9.74652544e-02, -1.88039571e-02, -7.87191574e-02,\n",
       "        -7.25485068e-02, -2.41955498e-02, -2.29236300e-03,\n",
       "        -1.00606228e-04, -5.26556931e-02, -6.11344193e-02,\n",
       "        -9.30723684e-03, -1.14534979e-01, -1.29016224e-01,\n",
       "        -2.66596802e-02, -2.02061486e-03, -2.94593345e-05,\n",
       "        -4.51705274e-02,  3.01476841e-02, -3.79362336e-03,\n",
       "        -1.23794757e-01, -1.82535334e-01, -5.35989186e-02,\n",
       "        -2.23886705e-03, -1.43452739e-05, -2.13010538e-02,\n",
       "         2.63954698e-02,  2.85426097e-02, -6.01272735e-02,\n",
       "        -1.34109618e-01, -1.13190605e-01, -1.37504807e-04,\n",
       "         0.00000000e+00, -3.11991735e-02,  9.42683188e-02,\n",
       "         9.69421137e-02, -4.24807762e-03, -3.34045549e-02,\n",
       "        -5.00421379e-02,  0.00000000e+00, -9.36921837e-04,\n",
       "        -7.09366721e-02,  1.08108775e-01,  6.60942092e-03,\n",
       "        -1.29952967e-01, -1.69241821e-03,  9.41335494e-02,\n",
       "         6.74222572e-03, -1.12462857e-03, -3.47366780e-02,\n",
       "         4.25097538e-02,  5.81821466e-02, -1.55463406e-01,\n",
       "         5.67045076e-02,  1.14373558e-01, -4.35334396e-03,\n",
       "        -1.40598912e-05, -7.87848114e-03, -9.85099979e-02,\n",
       "        -4.66755111e-02, -1.87417520e-02,  1.04036090e-01,\n",
       "         1.53604103e-02, -2.02216864e-02],\n",
       "       [-3.03090268e-03,  0.00000000e+00, -4.99273106e-03,\n",
       "        -3.03341268e-03, -1.12661472e-03,  1.33087701e-02,\n",
       "         6.14334342e-02,  1.13552204e-01,  4.94593482e-02,\n",
       "        -1.15551094e-04, -1.98117570e-02,  1.11884410e-02,\n",
       "         1.71549539e-02,  9.61196060e-02,  2.08755758e-02,\n",
       "         5.81292911e-02,  2.96010689e-02, -3.38434110e-05,\n",
       "        -6.62499158e-02, -1.23642046e-01, -1.04666262e-01,\n",
       "         1.92729880e-02,  5.80026021e-03,  2.63848500e-02,\n",
       "         3.59272528e-03, -1.82143763e-05, -7.58201134e-02,\n",
       "        -1.33569681e-01, -1.23603852e-01, -1.67026866e-02,\n",
       "         8.79909653e-02,  6.22463930e-02, -3.27497077e-05,\n",
       "         0.00000000e+00, -2.02901825e-02,  3.61455437e-02,\n",
       "         5.39674138e-02,  5.33972468e-02,  9.80460865e-02,\n",
       "         4.88839228e-02,  0.00000000e+00, -2.17931752e-04,\n",
       "         5.98022958e-04,  1.95349470e-02,  1.07043061e-01,\n",
       "         3.38283004e-03, -7.61877528e-02, -5.02766650e-02,\n",
       "        -6.34679140e-04, -2.20508217e-04, -1.44219387e-02,\n",
       "        -5.83334931e-02,  2.65499989e-02, -1.73722871e-01,\n",
       "        -2.13539259e-01, -8.01404882e-02, -4.06227868e-03,\n",
       "        -1.93108791e-05, -9.41810785e-03,  9.64732676e-03,\n",
       "        -8.83105606e-02, -2.52874177e-01, -1.62264258e-01,\n",
       "        -4.92471336e-02, -7.41176032e-03],\n",
       "       [-7.11942485e-03,  0.00000000e+00, -1.37342671e-02,\n",
       "        -6.21466668e-02, -8.35508276e-02, -4.33623332e-02,\n",
       "        -2.75959913e-02, -5.21035579e-02, -6.55122318e-03,\n",
       "         8.79168428e-04, -2.23508329e-02,  3.88406015e-02,\n",
       "        -7.07970914e-02, -1.19191092e-01,  7.91103250e-02,\n",
       "         1.80704971e-02, -4.51133130e-03,  3.93801206e-04,\n",
       "         1.52963243e-02,  7.95850095e-02, -2.12985039e-02,\n",
       "        -7.35116440e-02,  9.09144883e-02,  1.74781107e-02,\n",
       "        -2.07805468e-03, -2.57721159e-05, -4.23084367e-02,\n",
       "        -1.59762236e-02,  1.11481812e-01,  2.72767963e-02,\n",
       "        -3.88011338e-02, -7.91915023e-02, -5.30722651e-05,\n",
       "         0.00000000e+00, -7.86782131e-02, -6.00522070e-02,\n",
       "         1.16439885e-01,  4.61370586e-02, -1.62037053e-01,\n",
       "        -1.17941302e-01,  0.00000000e+00, -3.62775308e-04,\n",
       "        -2.72523675e-02,  1.06578886e-01, -1.68457776e-02,\n",
       "        -8.13291320e-03,  5.20452514e-02, -7.48970365e-02,\n",
       "        -1.07740517e-03, -5.20510666e-04,  4.97555971e-04,\n",
       "         8.36803053e-02, -1.09361941e-01, -1.04012794e-01,\n",
       "         5.11402328e-02, -5.04276343e-02, -8.22457405e-03,\n",
       "        -8.19389769e-05, -1.22206240e-02, -8.95807878e-02,\n",
       "        -4.43404644e-02, -9.13216740e-04, -2.82002073e-02,\n",
       "        -4.20863271e-02, -1.48834773e-02],\n",
       "       [-6.87892364e-03,  0.00000000e+00, -2.06848948e-02,\n",
       "        -6.28248213e-02, -5.15638042e-02, -1.07720279e-01,\n",
       "        -1.28385393e-01,  1.64349784e-02, -2.33468355e-03,\n",
       "        -2.96744773e-04, -3.24960138e-02,  9.69743560e-02,\n",
       "        -1.13541851e-01, -7.02604517e-02,  8.60262255e-02,\n",
       "         6.20337617e-02,  4.59124373e-04, -8.77576832e-05,\n",
       "         4.35666862e-02,  1.71394033e-01, -1.29636664e-01,\n",
       "        -7.95089934e-02,  3.45757375e-01,  1.25167717e-01,\n",
       "        -9.41107127e-04, -4.13291984e-05, -2.12417098e-02,\n",
       "         1.56733551e-01,  1.98821168e-01,  1.39748797e-01,\n",
       "         3.22252892e-01,  8.21237699e-02, -1.02213066e-04,\n",
       "         0.00000000e+00, -1.37007149e-01, -1.86876492e-01,\n",
       "        -5.02051774e-02, -2.19399873e-01,  4.44395304e-03,\n",
       "         1.65253603e-02,  0.00000000e+00, -5.53446120e-04,\n",
       "        -8.61462385e-02, -3.61688711e-01, -3.47647535e-01,\n",
       "        -2.33383048e-01, -6.41450683e-02, -1.05197444e-02,\n",
       "        -1.47677319e-04, -5.54264207e-04, -4.09334597e-03,\n",
       "        -1.16868719e-01, -1.96580248e-01, -1.91814761e-01,\n",
       "        -1.32696888e-01, -2.17495081e-02, -3.18990551e-03,\n",
       "        -4.26975646e-05, -1.79447268e-02, -8.84856490e-02,\n",
       "        -1.01183759e-01, -6.24026164e-02, -6.26923891e-02,\n",
       "        -3.08280094e-02, -1.60167980e-02]])"
      ]
     },
     "execution_count": 148,
     "metadata": {},
     "output_type": "execute_result"
    }
   ],
   "source": [
    "theta\n",
    "    "
   ]
  },
  {
   "cell_type": "code",
   "execution_count": 164,
   "metadata": {},
   "outputs": [],
   "source": [
    "def prediction(X,theta,y):\n",
    "    pred = np.argmax(X @ theta.T, axis = 1)\n",
    "    return np.mean(pred == Y.flatten()) * 100\n",
    "    \n"
   ]
  },
  {
   "cell_type": "code",
   "execution_count": 162,
   "metadata": {},
   "outputs": [
    {
     "name": "stdout",
     "output_type": "stream",
     "text": [
      "94.87750556792874\n"
     ]
    }
   ],
   "source": [
    "print(prediction(X,theta,Y))"
   ]
  },
  {
   "cell_type": "code",
   "execution_count": 151,
   "metadata": {},
   "outputs": [],
   "source": [
    "m = len(y_test)\n",
    "ones = np.ones((m,1))\n",
    "x_test = np.hstack((ones, x_test))\n",
    "\n"
   ]
  },
  {
   "cell_type": "code",
   "execution_count": 165,
   "metadata": {},
   "outputs": [
    {
     "name": "stdout",
     "output_type": "stream",
     "text": [
      "(450, 65)\n",
      "(450,)\n",
      "0.0\n"
     ]
    },
    {
     "name": "stderr",
     "output_type": "stream",
     "text": [
      "<ipython-input-164-f25ff600b515>:3: DeprecationWarning: elementwise comparison failed; this will raise an error in the future.\n",
      "  return np.mean(pred == Y.flatten()) * 100\n"
     ]
    },
    {
     "data": {
      "text/plain": [
       "93.77777777777779"
      ]
     },
     "execution_count": 165,
     "metadata": {},
     "output_type": "execute_result"
    }
   ],
   "source": [
    "print(x_test.shape)\n",
    "print(y_test.shape)\n",
    "print(prediction(x_test,theta,y_test))\n",
    "pred = np.argmax(x_test @ theta.T, axis = 1)\n",
    "\n",
    "np.mean(pred == y_test.flatten()) * 100"
   ]
  },
  {
   "cell_type": "code",
   "execution_count": 166,
   "metadata": {},
   "outputs": [
    {
     "data": {
      "text/plain": [
       "93.77777777777779"
      ]
     },
     "execution_count": 166,
     "metadata": {},
     "output_type": "execute_result"
    }
   ],
   "source": [
    "pred = np.argmax(x_test @ theta.T, axis = 1)\n",
    "np.mean(pred == y_test.flatten()) * 100"
   ]
  },
  {
   "cell_type": "raw",
   "metadata": {},
   "source": [
    "def probability(theta, x):\n",
    "    # Returns the probability after passing through sigmoid\n",
    "    return sigmoid(np.dot(x, theta))\n"
   ]
  },
  {
   "cell_type": "raw",
   "metadata": {},
   "source": [
    "def predict(x):\n",
    "    for i in range (1,10):\n",
    "        h_x = probability(theta[i], x)"
   ]
  },
  {
   "cell_type": "raw",
   "metadata": {},
   "source": [
    "def accuracy(x, actual_classes, probab_threshold=0.5):\n",
    "    predicted_classes = (predict(x) >= \n",
    "                         probab_threshold).astype(int)\n",
    "    predicted_classes = predicted_classes.flatten()\n",
    "    accuracy = np.mean(predicted_classes == actual_classes)\n",
    "    return accuracy * 100"
   ]
  },
  {
   "cell_type": "raw",
   "metadata": {},
   "source": [
    "accuracy(X, Y.flatten())"
   ]
  }
 ],
 "metadata": {
  "kernelspec": {
   "display_name": "Python 3",
   "language": "python",
   "name": "python3"
  },
  "language_info": {
   "codemirror_mode": {
    "name": "ipython",
    "version": 3
   },
   "file_extension": ".py",
   "mimetype": "text/x-python",
   "name": "python",
   "nbconvert_exporter": "python",
   "pygments_lexer": "ipython3",
   "version": "3.8.2"
  }
 },
 "nbformat": 4,
 "nbformat_minor": 4
}
