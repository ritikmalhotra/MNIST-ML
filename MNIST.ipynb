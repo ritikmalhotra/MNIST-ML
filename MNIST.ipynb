{
 "cells": [
  {
   "cell_type": "code",
   "execution_count": 2,
   "metadata": {},
   "outputs": [],
   "source": [
    "from sklearn.datasets import load_digits\n",
    "digits = load_digits()\n"
   ]
  },
  {
   "cell_type": "code",
   "execution_count": 3,
   "metadata": {},
   "outputs": [
    {
     "data": {
      "text/plain": [
       "numpy.ndarray"
      ]
     },
     "execution_count": 3,
     "metadata": {},
     "output_type": "execute_result"
    }
   ],
   "source": [
    "type(digits.data)"
   ]
  },
  {
   "cell_type": "code",
   "execution_count": 4,
   "metadata": {},
   "outputs": [
    {
     "data": {
      "text/plain": [
       "numpy.ndarray"
      ]
     },
     "execution_count": 4,
     "metadata": {},
     "output_type": "execute_result"
    }
   ],
   "source": [
    "type(digits.target)"
   ]
  },
  {
   "cell_type": "code",
   "execution_count": 5,
   "metadata": {},
   "outputs": [
    {
     "name": "stdout",
     "output_type": "stream",
     "text": [
      "Image data shape (1797, 64)\n"
     ]
    }
   ],
   "source": [
    "print('Image data shape',digits.data.shape)"
   ]
  },
  {
   "cell_type": "code",
   "execution_count": 6,
   "metadata": {},
   "outputs": [
    {
     "name": "stdout",
     "output_type": "stream",
     "text": [
      "Label data shape (1797,)\n"
     ]
    }
   ],
   "source": [
    "print('Label data shape',digits.target.shape)"
   ]
  },
  {
   "cell_type": "code",
   "execution_count": 7,
   "metadata": {},
   "outputs": [],
   "source": [
    "import matplotlib.pyplot as plt \n",
    "import numpy as np"
   ]
  },
  {
   "cell_type": "code",
   "execution_count": 8,
   "metadata": {},
   "outputs": [
    {
     "data": {
      "image/png": "[encoded data removed]",
      "text/plain": [
       "<Figure size 1440x288 with 10 Axes>"
      ]
     },
     "metadata": {
      "needs_background": "light"
     },
     "output_type": "display_data"
    }
   ],
   "source": [
    "import numpy as np \n",
    "import matplotlib.pyplot as plt\n",
    "plt.figure(figsize=(20,4))\n",
    "for index, (image, label) in enumerate(zip(digits.data[0:10], digits.target[0:10])):\n",
    " plt.subplot(1, 10, index + 1)\n",
    " plt.imshow(np.reshape(image, (8,8)), cmap=plt.cm.gray)\n",
    " plt.title('Training: %i\\n' % label, fontsize = 20)"
   ]
  },
  {
   "cell_type": "code",
   "execution_count": 9,
   "metadata": {},
   "outputs": [],
   "source": [
    "def sigmoid(z):\n",
    "    return 1/(1+np.exp(-z))"
   ]
  },
  {
   "cell_type": "code",
   "execution_count": 10,
   "metadata": {},
   "outputs": [],
   "source": [
    "def costFunctionReg(theta, X, y,lmbda):\n",
    "    m = len(y)\n",
    "    e=10**(-6) \n",
    "    temp1 = np.multiply(y, np.log(sigmoid(np.dot(X, theta)+e)))\n",
    "    temp2 = np.multiply(1-y, np.log(1-sigmoid(np.dot(X, theta))+e))\n",
    "    return np.sum(temp1 + temp2) / (-m) + np.sum(theta[1:]**2) * lmbda / (2*m)"
   ]
  },
  {
   "cell_type": "code",
   "execution_count": 11,
   "metadata": {},
   "outputs": [],
   "source": [
    "def gradRegularization(theta, X, y,lmbda):\n",
    "    m = len(y)\n",
    "    temp = sigmoid(np.dot(X, theta)) - y\n",
    "    temp = np.dot(temp.T, X).T / m + theta * lmbda / m\n",
    "    temp[0] = temp[0] - theta[0] * lmbda / m\n",
    "    return temp"
   ]
  },
  {
   "cell_type": "code",
   "execution_count": 12,
   "metadata": {},
   "outputs": [],
   "source": [
    "X = digits.data\n",
    "Y = digits.target\n"
   ]
  },
  {
   "cell_type": "code",
   "execution_count": 13,
   "metadata": {},
   "outputs": [],
   "source": [
    "m = len(Y)\n",
    "ones = np.ones((m,1))\n",
    "X = np.hstack((ones, X))"
   ]
  },
  {
   "cell_type": "code",
   "execution_count": 14,
   "metadata": {},
   "outputs": [],
   "source": [
    "(m,n) = X.shape"
   ]
  },
  {
   "cell_type": "code",
   "execution_count": 15,
   "metadata": {},
   "outputs": [
    {
     "data": {
      "text/plain": [
       "(1797, 65)"
      ]
     },
     "execution_count": 15,
     "metadata": {},
     "output_type": "execute_result"
    }
   ],
   "source": [
    "m,n"
   ]
  },
  {
   "cell_type": "code",
   "execution_count": 16,
   "metadata": {},
   "outputs": [
    {
     "data": {
      "text/plain": [
       "numpy.ndarray"
      ]
     },
     "execution_count": 16,
     "metadata": {},
     "output_type": "execute_result"
    }
   ],
   "source": [
    "type(digits.data)"
   ]
  },
  {
   "cell_type": "code",
   "execution_count": 17,
   "metadata": {},
   "outputs": [],
   "source": [
    "import scipy"
   ]
  },
  {
   "cell_type": "code",
   "execution_count": 27,
   "metadata": {},
   "outputs": [
    {
     "name": "stdout",
     "output_type": "stream",
     "text": [
      "Warning: Desired error not necessarily achieved due to precision loss.\n",
      "         Current function value: 0.693145\n",
      "         Iterations: 0\n",
      "         Function evaluations: 14\n",
      "         Gradient evaluations: 14\n",
      "Warning: Maximum number of iterations has been exceeded.\n",
      "         Current function value: 0.033221\n",
      "         Iterations: 100\n",
      "         Function evaluations: 201\n",
      "         Gradient evaluations: 201\n",
      "Optimization terminated successfully.\n",
      "         Current function value: 0.000276\n",
      "         Iterations: 66\n",
      "         Function evaluations: 166\n",
      "         Gradient evaluations: 166\n",
      "Warning: Maximum number of iterations has been exceeded.\n",
      "         Current function value: 0.011948\n",
      "         Iterations: 100\n",
      "         Function evaluations: 206\n",
      "         Gradient evaluations: 206\n",
      "Warning: Maximum number of iterations has been exceeded.\n",
      "         Current function value: 0.000364\n",
      "         Iterations: 100\n",
      "         Function evaluations: 258\n",
      "         Gradient evaluations: 258\n",
      "Warning: Maximum number of iterations has been exceeded.\n",
      "         Current function value: 0.000954\n",
      "         Iterations: 100\n",
      "         Function evaluations: 200\n",
      "         Gradient evaluations: 200\n",
      "Warning: Maximum number of iterations has been exceeded.\n",
      "         Current function value: 0.000639\n",
      "         Iterations: 100\n",
      "         Function evaluations: 227\n",
      "         Gradient evaluations: 227\n",
      "Warning: Maximum number of iterations has been exceeded.\n",
      "         Current function value: 0.000677\n",
      "         Iterations: 100\n",
      "         Function evaluations: 236\n",
      "         Gradient evaluations: 236\n",
      "Warning: Maximum number of iterations has been exceeded.\n",
      "         Current function value: 0.078838\n",
      "         Iterations: 100\n",
      "         Function evaluations: 201\n",
      "         Gradient evaluations: 198\n",
      "Warning: Maximum number of iterations has been exceeded.\n",
      "         Current function value: 0.024933\n",
      "         Iterations: 100\n",
      "         Function evaluations: 191\n",
      "         Gradient evaluations: 191\n"
     ]
    }
   ],
   "source": [
    "lmbda = 0.1\n",
    "k = 10\n",
    "theta = np.zeros((k,n)) #inital parameters\n",
    "for i in range(k):\n",
    "    digit_class = i if i else 10\n",
    "    theta[i] = scipy.optimize.fmin_cg(f = costFunctionReg, x0 = theta[i],  fprime = gradRegularization, args = (X, (Y == digit_class).flatten(), lmbda), maxiter = 50)"
   ]
  },
  {
   "cell_type": "code",
   "execution_count": 24,
   "metadata": {},
   "outputs": [
    {
     "data": {
      "text/plain": [
       "(10, 65)"
      ]
     },
     "execution_count": 24,
     "metadata": {},
     "output_type": "execute_result"
    }
   ],
   "source": [
    "theta.shape"
   ]
  },
  {
   "cell_type": "code",
   "execution_count": 25,
   "metadata": {},
   "outputs": [
    {
     "data": {
      "text/plain": [
       "array([[ 0.00000000e+00,  0.00000000e+00,  0.00000000e+00,\n",
       "         0.00000000e+00,  0.00000000e+00,  0.00000000e+00,\n",
       "         0.00000000e+00,  0.00000000e+00,  0.00000000e+00,\n",
       "         0.00000000e+00,  0.00000000e+00,  0.00000000e+00,\n",
       "         0.00000000e+00,  0.00000000e+00,  0.00000000e+00,\n",
       "         0.00000000e+00,  0.00000000e+00,  0.00000000e+00,\n",
       "         0.00000000e+00,  0.00000000e+00,  0.00000000e+00,\n",
       "         0.00000000e+00,  0.00000000e+00,  0.00000000e+00,\n",
       "         0.00000000e+00,  0.00000000e+00,  0.00000000e+00,\n",
       "         0.00000000e+00,  0.00000000e+00,  0.00000000e+00,\n",
       "         0.00000000e+00,  0.00000000e+00,  0.00000000e+00,\n",
       "         0.00000000e+00,  0.00000000e+00,  0.00000000e+00,\n",
       "         0.00000000e+00,  0.00000000e+00,  0.00000000e+00,\n",
       "         0.00000000e+00,  0.00000000e+00,  0.00000000e+00,\n",
       "         0.00000000e+00,  0.00000000e+00,  0.00000000e+00,\n",
       "         0.00000000e+00,  0.00000000e+00,  0.00000000e+00,\n",
       "         0.00000000e+00,  0.00000000e+00,  0.00000000e+00,\n",
       "         0.00000000e+00,  0.00000000e+00,  0.00000000e+00,\n",
       "         0.00000000e+00,  0.00000000e+00,  0.00000000e+00,\n",
       "         0.00000000e+00,  0.00000000e+00,  0.00000000e+00,\n",
       "         0.00000000e+00,  0.00000000e+00,  0.00000000e+00,\n",
       "         0.00000000e+00,  0.00000000e+00],\n",
       "       [-3.84209173e-03,  0.00000000e+00, -7.56223920e-03,\n",
       "        -5.61411790e-02, -6.98566848e-02, -9.65447072e-02,\n",
       "         2.64528103e-04, -8.87439334e-03, -3.72150297e-03,\n",
       "        -1.40376172e-04, -4.75151004e-02, -1.38665799e-01,\n",
       "        -1.51620421e-02,  3.55392904e-02, -3.30513214e-03,\n",
       "        -1.99216733e-02, -3.17415701e-03,  4.00856611e-04,\n",
       "        -2.79506410e-02, -5.82418462e-02,  1.53464421e-01,\n",
       "         1.32347462e-01, -2.61839745e-02, -2.98394692e-02,\n",
       "        -1.63600414e-03,  1.85898778e-04, -1.07595569e-02,\n",
       "        -2.26143869e-02,  9.67230842e-02,  4.73707141e-02,\n",
       "        -4.67077525e-02, -5.56650654e-02, -5.73016836e-05,\n",
       "         0.00000000e+00, -4.96267629e-02, -6.79868689e-02,\n",
       "         1.59539534e-02,  2.38020663e-02, -1.11492712e-01,\n",
       "        -8.13954337e-02,  0.00000000e+00, -3.03447884e-04,\n",
       "        -5.13054271e-02, -8.78387549e-02,  2.07678043e-02,\n",
       "         8.44496568e-02, -9.02761099e-02, -9.04545754e-02,\n",
       "        -7.29655114e-04, -2.36261595e-04, -1.80560603e-02,\n",
       "        -7.00193682e-02,  1.03559171e-02,  5.42749506e-02,\n",
       "        -3.15186210e-02, -4.09443859e-02,  1.34095294e-02,\n",
       "        -3.12944985e-05, -7.17525187e-03, -7.31346485e-02,\n",
       "        -7.48389656e-02, -1.55142274e-02,  4.14497589e-02,\n",
       "         2.96998834e-02,  3.58791641e-02],\n",
       "       [-3.89444123e-03,  0.00000000e+00,  1.20267389e-02,\n",
       "         6.60601663e-02,  4.70586657e-04, -3.77831017e-02,\n",
       "        -5.97770422e-02, -3.46852774e-02, -3.98375852e-03,\n",
       "         5.52572885e-05,  7.00732686e-02,  5.21097980e-02,\n",
       "        -4.54040945e-02,  4.79046333e-02, -1.63268435e-02,\n",
       "        -2.97243952e-02, -3.35776254e-03,  2.22817412e-05,\n",
       "         3.84926010e-02, -7.92245545e-02, -1.38380832e-01,\n",
       "         5.31016069e-02,  1.31618466e-02, -2.12660287e-02,\n",
       "        -1.48916769e-03, -3.34529095e-05, -5.04230567e-02,\n",
       "        -2.42833149e-01, -2.25754265e-01, -1.31628654e-02,\n",
       "        -3.27998619e-02, -5.13266950e-02, -6.42282701e-05,\n",
       "         0.00000000e+00, -6.54445543e-02, -1.95631608e-01,\n",
       "        -8.09794624e-02, -4.40568725e-02, -1.77020600e-01,\n",
       "        -8.53949196e-02,  0.00000000e+00, -2.58446281e-04,\n",
       "        -1.66690292e-02, -2.13639728e-02,  1.24560994e-01,\n",
       "        -4.73992854e-02, -1.97664982e-01, -8.41531414e-02,\n",
       "        -9.00029670e-05,  1.07477661e-03,  2.50840200e-02,\n",
       "         7.33681965e-02,  1.16951372e-01,  5.31973112e-02,\n",
       "         2.49630925e-02,  6.65516579e-02,  5.19114227e-03,\n",
       "         4.11899999e-04,  1.47319768e-02,  7.16206097e-02,\n",
       "        -1.65978374e-02, -2.05846242e-02,  1.01882318e-01,\n",
       "         1.32691640e-01,  1.70453833e-02],\n",
       "       [-4.66235073e-03,  0.00000000e+00,  7.41123539e-03,\n",
       "         4.63490734e-02,  6.31291525e-03,  5.60812316e-02,\n",
       "         6.22234171e-02, -1.26368188e-02, -4.43876294e-03,\n",
       "        -2.53928513e-04,  4.39402472e-02,  2.28758109e-02,\n",
       "        -9.59068350e-02,  4.73865890e-03,  8.51602429e-02,\n",
       "         2.26648498e-02, -3.25066585e-03,  6.26265005e-05,\n",
       "        -2.99658675e-02, -2.76319696e-01, -1.55522394e-01,\n",
       "         1.28301227e-01, -4.16037625e-02, -4.26009610e-02,\n",
       "        -1.86203396e-03, -4.02331346e-05, -7.69198012e-02,\n",
       "        -2.99447514e-01, -4.38628642e-02,  9.20779856e-02,\n",
       "        -1.84070883e-01, -1.14970256e-01, -7.97350923e-05,\n",
       "         0.00000000e+00, -8.05351946e-02, -2.07369726e-01,\n",
       "        -6.58178926e-02,  1.09552137e-01,  2.13203617e-02,\n",
       "        -7.39243843e-02,  0.00000000e+00, -3.18549075e-04,\n",
       "        -3.54784360e-02, -1.77027524e-01, -2.10254083e-01,\n",
       "        -6.74921019e-02,  1.14718518e-01,  5.30212991e-02,\n",
       "        -1.17578386e-03, -2.58794822e-04,  3.22200859e-03,\n",
       "        -4.57322292e-02, -1.10673040e-01, -1.66794978e-02,\n",
       "         8.18207824e-02,  3.70349081e-02, -7.03226514e-03,\n",
       "        -2.00284959e-05,  4.59152693e-03,  7.19502891e-02,\n",
       "         1.64066347e-02, -7.35802562e-03, -5.08521711e-03,\n",
       "        -4.35929697e-02, -1.60769372e-02],\n",
       "       [-2.45085240e-03,  0.00000000e+00, -5.70548113e-03,\n",
       "        -7.73856468e-02, -8.94491046e-02, -6.12330309e-02,\n",
       "        -1.21647270e-01, -5.27438730e-02, -3.35850343e-03,\n",
       "        -1.00589222e-04, -3.16900320e-02, -1.06309619e-01,\n",
       "        -2.20200438e-02, -9.18297189e-02, -1.24576427e-01,\n",
       "        -3.84955486e-02, -2.04703502e-03, -6.98253714e-05,\n",
       "        -2.00573590e-02,  2.10610528e-02,  4.72142280e-02,\n",
       "        -2.31009290e-02, -1.58937548e-02,  2.16022869e-02,\n",
       "         4.53135722e-03,  2.83695760e-04,  5.75033729e-02,\n",
       "         9.16472360e-02, -5.92990827e-02, -2.36250306e-02,\n",
       "         4.16297195e-02,  7.07739653e-02,  7.34150615e-04,\n",
       "         0.00000000e+00,  1.19430170e-01,  9.18335805e-02,\n",
       "        -1.16852525e-02,  3.70536505e-02,  5.56520372e-02,\n",
       "         4.41471172e-02,  0.00000000e+00,  1.47082037e-03,\n",
       "         9.20174358e-02,  4.37165169e-02,  9.43558321e-02,\n",
       "         1.10033998e-01, -5.36336981e-03, -5.35275547e-02,\n",
       "        -7.92154783e-04,  1.61286234e-03,  1.63417246e-02,\n",
       "        -9.26648962e-02, -2.26216022e-02,  3.23036425e-02,\n",
       "        -1.30112016e-01, -9.67877485e-02, -5.54792535e-03,\n",
       "        -1.07939439e-05, -4.31991232e-03, -7.81063886e-02,\n",
       "        -7.59633318e-02, -6.41690403e-02, -1.33842996e-01,\n",
       "        -5.08410091e-02, -7.45390010e-03],\n",
       "       [-5.91596889e-03,  0.00000000e+00,  2.77692844e-02,\n",
       "         2.02920675e-01, -7.82073551e-03,  1.23302356e-02,\n",
       "         1.97657402e-01,  9.70042180e-02, -2.69549905e-02,\n",
       "        -1.15738990e-05,  5.21840542e-02,  1.43063252e-01,\n",
       "        -3.70392879e-02, -1.02786342e-01, -1.83054525e-01,\n",
       "        -5.66149391e-02, -1.97499964e-02, -7.12482684e-04,\n",
       "         8.19329223e-02,  1.54696866e-01, -5.17653444e-02,\n",
       "        -2.57806025e-01, -4.32678548e-01, -1.58407691e-01,\n",
       "        -5.70793568e-03, -3.45543425e-04,  1.14273576e-01,\n",
       "         1.88813969e-01,  1.19160792e-01, -1.78022725e-02,\n",
       "        -1.58678313e-01, -1.31741198e-01, -1.11598586e-04,\n",
       "         0.00000000e+00, -2.70568223e-02, -3.02714419e-03,\n",
       "        -6.60099629e-02, -1.04525006e-01, -3.35021635e-03,\n",
       "        -2.35829158e-02,  0.00000000e+00, -4.43148868e-04,\n",
       "        -8.34042408e-02, -2.85411068e-01, -2.25796280e-01,\n",
       "        -1.50659894e-01,  5.84609259e-02,  2.73306897e-03,\n",
       "        -1.32333324e-03, -3.57532246e-04, -2.97472328e-03,\n",
       "        -9.53926862e-02, -1.31145111e-01, -7.77720526e-03,\n",
       "         5.32829777e-03, -8.14453799e-02, -1.04451904e-02,\n",
       "        -2.74933598e-05,  2.76364603e-02,  2.06473581e-01,\n",
       "         6.39787444e-02, -8.12862379e-02, -1.51128114e-01,\n",
       "        -8.63445502e-02, -2.13781181e-02],\n",
       "       [-4.53096801e-03,  0.00000000e+00, -7.12548836e-03,\n",
       "        -8.66549654e-02, -3.49551282e-02, -6.54805441e-02,\n",
       "        -7.27029002e-02, -2.41941194e-02, -2.41786814e-03,\n",
       "        -9.88772388e-05, -4.40008235e-02, -6.27564494e-02,\n",
       "        -6.16507027e-03, -9.60517891e-02, -1.18573762e-01,\n",
       "        -3.03770835e-02, -2.23811609e-03, -1.26627067e-04,\n",
       "        -3.98514239e-02,  2.27668371e-02,  8.66840999e-04,\n",
       "        -1.20319684e-01, -1.59886034e-01, -4.73522442e-02,\n",
       "        -1.76079949e-03, -5.83103546e-05, -1.66525261e-02,\n",
       "         3.08882380e-02, -3.86259157e-03, -7.76822335e-02,\n",
       "        -1.15967420e-01, -8.23673705e-02, -9.84987076e-05,\n",
       "         0.00000000e+00, -1.33155850e-02,  8.22917531e-02,\n",
       "         7.08028951e-02,  5.44318663e-03, -1.26208507e-02,\n",
       "        -2.89667856e-02,  0.00000000e+00, -9.28461370e-04,\n",
       "        -4.31337947e-02,  1.05665827e-01,  1.90356742e-02,\n",
       "        -1.07141313e-01,  3.08660513e-04,  9.67365550e-02,\n",
       "         4.67164474e-03, -6.25914104e-04, -2.43224402e-02,\n",
       "         3.55044132e-02,  4.40746175e-02, -1.24557655e-01,\n",
       "         4.29813561e-02,  1.04733668e-01, -5.17273085e-03,\n",
       "        -9.89064167e-06, -6.22113948e-03, -8.69265928e-02,\n",
       "        -5.38238219e-02, -5.01698739e-03,  9.42447371e-02,\n",
       "         1.88444585e-02, -1.60072554e-02],\n",
       "       [-2.70966021e-03,  0.00000000e+00, -4.42938614e-03,\n",
       "         5.63622609e-04,  4.39249439e-03,  1.31885310e-02,\n",
       "         6.55216670e-02,  8.39841865e-02,  2.97681634e-02,\n",
       "        -1.19272266e-04, -1.89984859e-02, -4.56405175e-03,\n",
       "        -2.75480359e-03,  7.16401198e-02,  3.28029297e-02,\n",
       "         5.06132291e-02,  2.48115040e-02, -6.21254773e-05,\n",
       "        -5.34600348e-02, -1.28647258e-01, -1.01384143e-01,\n",
       "         5.00900405e-03,  5.67713297e-03,  2.62345121e-02,\n",
       "         2.71209983e-03, -2.58185162e-05, -6.46625553e-02,\n",
       "        -1.21845557e-01, -1.09218662e-01, -4.15555813e-03,\n",
       "         8.48905323e-02,  5.59117730e-02, -5.55482147e-04,\n",
       "         0.00000000e+00, -1.60109431e-02,  3.01216430e-02,\n",
       "         5.55169120e-02,  5.43551745e-02,  9.23681092e-02,\n",
       "         5.68314101e-02,  0.00000000e+00, -1.98252869e-04,\n",
       "        -1.44429328e-03, -3.01215643e-03,  9.12709637e-02,\n",
       "         1.82471391e-02, -6.95372928e-02, -5.18440513e-02,\n",
       "        -5.75489341e-04, -1.62870282e-04, -1.26507965e-02,\n",
       "        -7.21947522e-02,  2.16393424e-02, -1.40264201e-01,\n",
       "        -2.06472220e-01, -8.16953436e-02, -4.48221786e-03,\n",
       "        -1.40757583e-05, -6.64818600e-03,  1.99149660e-02,\n",
       "        -7.55673813e-02, -2.38208370e-01, -1.64031162e-01,\n",
       "        -4.91655424e-02, -8.05860762e-03],\n",
       "       [-6.78760565e-03,  0.00000000e+00, -1.23088094e-02,\n",
       "        -5.98510873e-02, -8.39552654e-02, -4.87224408e-02,\n",
       "        -3.33922107e-02, -5.24276918e-02, -7.25761816e-03,\n",
       "         1.11188396e-03, -1.87870510e-02,  3.67736466e-02,\n",
       "        -7.38174828e-02, -1.12593972e-01,  7.79217937e-02,\n",
       "         1.30320687e-02, -5.16745874e-03,  1.78401138e-04,\n",
       "         1.56235666e-02,  7.28338882e-02, -2.64287024e-02,\n",
       "        -6.48785399e-02,  1.06059581e-01,  1.53557174e-02,\n",
       "        -2.19460592e-03, -5.70347044e-05, -4.98365402e-02,\n",
       "        -2.34693988e-02,  1.08348062e-01,  3.98156127e-02,\n",
       "        -3.50529668e-02, -8.27673801e-02, -9.47633614e-05,\n",
       "         0.00000000e+00, -7.90448039e-02, -6.04057258e-02,\n",
       "         1.14523420e-01,  3.89481908e-02, -1.64884061e-01,\n",
       "        -1.14597776e-01,  0.00000000e+00, -3.39721317e-04,\n",
       "        -2.34462031e-02,  1.14946755e-01, -2.34739833e-02,\n",
       "        -5.40289375e-03,  4.03989339e-02, -7.57261745e-02,\n",
       "        -9.87586606e-04, -3.91063294e-04,  2.41740921e-03,\n",
       "         9.01107068e-02, -1.22783140e-01, -1.00370521e-01,\n",
       "         3.93007512e-02, -5.29593628e-02, -8.78335356e-03,\n",
       "        -6.15928641e-05, -1.08925680e-02, -8.81038210e-02,\n",
       "        -3.61194389e-02,  1.31217269e-02, -2.45786540e-02,\n",
       "        -5.15228912e-02, -1.63418067e-02],\n",
       "       [-7.38701707e-03,  0.00000000e+00, -2.02952974e-02,\n",
       "        -5.69141984e-02, -6.65108707e-02, -1.52149759e-01,\n",
       "        -1.37717144e-01,  1.26381711e-02,  3.44779118e-04,\n",
       "        -7.50769448e-04, -3.23433311e-02,  8.77691414e-02,\n",
       "        -9.99508208e-02, -5.39742381e-02,  7.90625261e-02,\n",
       "         5.73399566e-02,  2.61240403e-03, -5.97886041e-04,\n",
       "         3.92040871e-02,  1.91313933e-01, -1.23610747e-01,\n",
       "        -6.36443293e-02,  3.59003739e-01,  1.18180003e-01,\n",
       "         8.97041366e-05, -6.69909737e-05, -1.80261861e-02,\n",
       "         1.68463152e-01,  1.81434648e-01,  1.21423388e-01,\n",
       "         3.37904816e-01,  9.83732252e-02, -1.51330301e-04,\n",
       "         0.00000000e+00, -1.37977954e-01, -1.86837451e-01,\n",
       "        -4.66004873e-02, -2.30526647e-01,  1.30939284e-02,\n",
       "         3.35703045e-02,  0.00000000e+00, -5.27870331e-04,\n",
       "        -8.64504556e-02, -3.71843354e-01, -3.52330950e-01,\n",
       "        -2.38886130e-01, -4.42559163e-02, -2.25773247e-03,\n",
       "        -4.26878019e-04, -4.28229918e-04, -1.00170936e-02,\n",
       "        -1.34442796e-01, -2.08302378e-01, -1.89347565e-01,\n",
       "        -9.61774517e-02, -2.42713242e-02, -4.99548179e-03,\n",
       "        -3.29908191e-05, -1.79544905e-02, -8.35051044e-02,\n",
       "        -9.47500845e-02, -7.18739171e-02, -5.85617298e-02,\n",
       "        -3.61541962e-02, -1.91192982e-02]])"
      ]
     },
     "execution_count": 25,
     "metadata": {},
     "output_type": "execute_result"
    }
   ],
   "source": [
    "theta\n"
   ]
  },
  {
   "cell_type": "code",
   "execution_count": 28,
   "metadata": {},
   "outputs": [
    {
     "data": {
      "text/plain": [
       "96.71675013912076"
      ]
     },
     "execution_count": 28,
     "metadata": {},
     "output_type": "execute_result"
    }
   ],
   "source": [
    "pred = np.argmax(X @ theta.T, axis = 1)\n",
    "\n",
    "np.mean(pred == Y.flatten()) * 100"
   ]
  },
  {
   "cell_type": "code",
   "execution_count": null,
   "metadata": {},
   "outputs": [],
   "source": []
  }
 ],
 "metadata": {
  "kernelspec": {
   "display_name": "Python 3",
   "language": "python",
   "name": "python3"
  },
  "language_info": {
   "codemirror_mode": {
    "name": "ipython",
    "version": 3
   },
   "file_extension": ".py",
   "mimetype": "text/x-python",
   "name": "python",
   "nbconvert_exporter": "python",
   "pygments_lexer": "ipython3",
   "version": "3.8.2"
  }
 },
 "nbformat": 4,
 "nbformat_minor": 4
}
