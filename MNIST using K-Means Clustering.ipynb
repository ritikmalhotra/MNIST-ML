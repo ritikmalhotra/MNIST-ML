{
 "cells": [
  {
   "cell_type": "markdown",
   "metadata": {},
   "source": [
    "# MNIST using K-Means Clustering"
   ]
  },
  {
   "cell_type": "code",
   "execution_count": 1,
   "metadata": {},
   "outputs": [],
   "source": [
    "import numpy as np"
   ]
  },
  {
   "cell_type": "code",
   "execution_count": 2,
   "metadata": {},
   "outputs": [],
   "source": [
    "from sklearn.datasets import load_digits\n",
    "digits = load_digits()"
   ]
  },
  {
   "cell_type": "code",
   "execution_count": 3,
   "metadata": {},
   "outputs": [],
   "source": [
    "from sklearn.model_selection import train_test_split\n",
    "x_train, x_test, y_train, y_test = train_test_split(digits.data, digits.target,test_size=0.20, random_state=0)\n",
    "x_train, x_validation, y_train, y_validation = train_test_split(x_train, y_train,test_size=0.20, random_state=0)"
   ]
  },
  {
   "cell_type": "code",
   "execution_count": 113,
   "metadata": {},
   "outputs": [],
   "source": [
    "def kmeansinitcentroids(X,k,Y):\n",
    "    centroids = []\n",
    "    for i in range(len(X)):\n",
    "        centroids.append([X[i],Y[i]])\n",
    "    \n",
    "    np.random.seed(50)\n",
    "    np.random.shuffle(centroids)\n",
    "    return centroids[:k]"
   ]
  },
  {
   "cell_type": "code",
   "execution_count": 72,
   "metadata": {},
   "outputs": [],
   "source": [
    "def eucledian_distance(v1,v2):\n",
    "    \n",
    "    distance = 0\n",
    "    \n",
    "    for i in range (len(v1)):\n",
    "        distance = distance + (v1[i]-v2[i])**2\n",
    "        \n",
    "    return np.sqrt(distance)"
   ]
  },
  {
   "cell_type": "code",
   "execution_count": 73,
   "metadata": {},
   "outputs": [],
   "source": [
    "def findclosestcentroids(x,centroids,k):\n",
    "    \n",
    "    index = []\n",
    "    \n",
    "    for i in range(len(x)):\n",
    "        temp = []\n",
    "        for j in range(len(centroids)):\n",
    "            dist = eucledian_distance(x[i],centroids[j][0])\n",
    "            temp.append(dist)\n",
    "        index.append(np.argmin(temp))\n",
    "    \n",
    "    return index   "
   ]
  },
  {
   "cell_type": "code",
   "execution_count": 23,
   "metadata": {},
   "outputs": [],
   "source": [
    "def computeCentroidnotmean(x,index,k,prevcentroid,y):\n",
    "    centroids = []\n",
    "    for i in range(k):\n",
    "        temp = []\n",
    "        temp1 = []\n",
    "        for j in range(len(index)):\n",
    "            if(index[j] == i):\n",
    "                temp.append(x[j])\n",
    "                temp1.append(y[j])\n",
    "            \n",
    "        a = np.mean(temp,axis = 0)\n",
    "        temp2 = []\n",
    "        \n",
    "        for z in range(len(temp)):\n",
    "            dist = eucledian_distance(a,temp[z])\n",
    "            temp2.append(dist)\n",
    "        z = np.argmin(temp2)\n",
    "        \n",
    "        centroids.append([temp[z],temp1[z]])\n",
    "\n",
    "    return centroids  "
   ]
  },
  {
   "cell_type": "code",
   "execution_count": 24,
   "metadata": {},
   "outputs": [],
   "source": [
    "def runkmeans(k,it,x_train,y_train):\n",
    "    centroid = kmeansinitcentroids(x_train,k,y_train)\n",
    "    for i in range(0,it):\n",
    "        idx = findclosestcentroids(x_train,centroid,k) \n",
    "        prevcentroid = centroid\n",
    "        centroid = computeCentroidnotmean(x_train,idx,k,prevcentroid,y_train)\n",
    "    return centroid"
   ]
  },
  {
   "cell_type": "code",
   "execution_count": 29,
   "metadata": {},
   "outputs": [],
   "source": [
    "def predict(x,centroid):\n",
    "    \n",
    "    cluster = []\n",
    "    \n",
    "    for i in range(len(x)):\n",
    "        distance = []\n",
    "        for j in range(len(centroid)):\n",
    "            dist = eucledian_distance(x[i],centroid[j][0])\n",
    "            distance.append([dist,centroid[j][1]])\n",
    "            \n",
    "        m,n = np.argmin(distance,axis = 0)\n",
    "        cluster.append(centroid[m][1])\n",
    "    return cluster"
   ]
  },
  {
   "cell_type": "code",
   "execution_count": 18,
   "metadata": {},
   "outputs": [],
   "source": [
    "def accuracy(predict,y):\n",
    "    acc = np.mean(predict == y.flatten())\n",
    "    return acc*100"
   ]
  },
  {
   "cell_type": "code",
   "execution_count": 114,
   "metadata": {},
   "outputs": [],
   "source": [
    "computed_centroid = runkmeans(10,100,x_train,y_train)"
   ]
  },
  {
   "cell_type": "code",
   "execution_count": 115,
   "metadata": {},
   "outputs": [],
   "source": [
    "pred = predict(x_validation,computed_centroid)"
   ]
  },
  {
   "cell_type": "code",
   "execution_count": null,
   "metadata": {},
   "outputs": [],
   "source": [
    "accuracy(pred,y_validation)"
   ]
  },
  {
   "cell_type": "markdown",
   "metadata": {},
   "source": []
  },
  {
   "cell_type": "code",
   "execution_count": null,
   "metadata": {},
   "outputs": [],
   "source": []
  },
  {
   "cell_type": "code",
   "execution_count": null,
   "metadata": {},
   "outputs": [],
   "source": []
  }
 ],
 "metadata": {
  "kernelspec": {
   "display_name": "Python 3",
   "language": "python",
   "name": "python3"
  },
  "language_info": {
   "codemirror_mode": {
    "name": "ipython",
    "version": 3
   },
   "file_extension": ".py",
   "mimetype": "text/x-python",
   "name": "python",
   "nbconvert_exporter": "python",
   "pygments_lexer": "ipython3",
   "version": "3.8.2"
  }
 },
 "nbformat": 4,
 "nbformat_minor": 4
}
