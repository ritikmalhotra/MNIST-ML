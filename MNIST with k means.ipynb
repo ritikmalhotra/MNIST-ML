{
 "cells": [
  {
   "cell_type": "markdown",
   "metadata": {},
   "source": [
    "# MNIST using K-Means Clustering"
   ]
  },
  {
   "cell_type": "code",
   "execution_count": 6,
   "metadata": {},
   "outputs": [],
   "source": [
    "import numpy as np"
   ]
  },
  {
   "cell_type": "code",
   "execution_count": 7,
   "metadata": {},
   "outputs": [],
   "source": [
    "from sklearn.datasets import load_digits\n",
    "digits = load_digits()"
   ]
  },
  {
   "cell_type": "code",
   "execution_count": 8,
   "metadata": {},
   "outputs": [],
   "source": [
    "from sklearn.model_selection import train_test_split\n",
    "x_train, x_test, y_train, y_test = train_test_split(digits.data, digits.target,test_size=0.20, random_state=0)\n",
    "x_train, x_validation, y_train, y_validation = train_test_split(x_train, y_train,test_size=0.20, random_state=0)"
   ]
  },
  {
   "cell_type": "code",
   "execution_count": 9,
   "metadata": {},
   "outputs": [],
   "source": [
    "def kmeansinitcentroids(X,k):\n",
    "    centroids = X\n",
    "    np.random.seed(8)\n",
    "    np.random.shuffle(centroids)\n",
    "    return centroids[:k,:]"
   ]
  },
  {
   "cell_type": "code",
   "execution_count": 10,
   "metadata": {},
   "outputs": [],
   "source": [
    "def eucledian_distance(v1,v2):\n",
    "    \n",
    "    distance = 0\n",
    "    \n",
    "    for i in range (len(v1)):\n",
    "        distance = distance + (v1[i]-v2[i])**2\n",
    "        \n",
    "    return np.sqrt(distance)"
   ]
  },
  {
   "cell_type": "code",
   "execution_count": 11,
   "metadata": {},
   "outputs": [],
   "source": [
    "def findclosestcentroids(x,centroids,k):\n",
    "    \n",
    "    index = []\n",
    "    \n",
    "    for i in range(len(x)):\n",
    "        temp = []\n",
    "        for j in range(len(centroids)):\n",
    "            dist = eucledian_distance(x[i],centroids[j])\n",
    "            temp.append(dist)\n",
    "        index.append(np.argmax(temp))\n",
    "    \n",
    "    return index   "
   ]
  },
  {
   "cell_type": "code",
   "execution_count": 12,
   "metadata": {},
   "outputs": [],
   "source": [
    "def computeCentroidnotmean(x,index,k,prevcentroid):\n",
    "    centroids = []\n",
    "\n",
    "    for i in range(k):\n",
    "        temp = []\n",
    "        for j in range(len(index)):\n",
    "            if(index[j] == i):\n",
    "                temp.append(x[j])\n",
    "        dist = []\n",
    "        for q in range(len(temp)):\n",
    "            d = eucledian_distance(temp[q],prevcentroid[i])\n",
    "            dist.append(d)\n",
    "        n = np.argmin(temp)\n",
    "        y = x[n]    \n",
    "        centroids.append(y)\n",
    "\n",
    "    return centroids        "
   ]
  },
  {
   "cell_type": "code",
   "execution_count": 21,
   "metadata": {},
   "outputs": [],
   "source": [
    "def computeCentroid(x,index,k,prevcentroid):\n",
    "    centroids = []\n",
    "\n",
    "    for i in range(k):\n",
    "        temp = []\n",
    "        for j in range(len(index)):\n",
    "            if(index[j] == i):\n",
    "                temp.append(x[j])\n",
    "            \n",
    "        y = np.mean(temp,axis = 0)\n",
    "        print(y.shape)\n",
    "        centroids.append(y)\n",
    "\n",
    "    return centroids  "
   ]
  },
  {
   "cell_type": "code",
   "execution_count": 14,
   "metadata": {},
   "outputs": [
    {
     "data": {
      "text/plain": [
       "array([1.5, 2.5])"
      ]
     },
     "execution_count": 14,
     "metadata": {},
     "output_type": "execute_result"
    }
   ],
   "source": [
    "l  = [[1,2],[2,3]]\n",
    "import numpy as np\n",
    "np.mean(l,axis=0)"
   ]
  },
  {
   "cell_type": "code",
   "execution_count": 23,
   "metadata": {},
   "outputs": [
    {
     "name": "stdout",
     "output_type": "stream",
     "text": [
      "0\n",
      "(64,)\n",
      "(64,)\n",
      "(64,)\n",
      "(64,)\n",
      "(64,)\n",
      "1\n",
      "(64,)\n",
      "(64,)\n",
      "(64,)\n",
      "(64,)\n",
      "(64,)\n",
      "2\n",
      "(64,)\n",
      "(64,)\n",
      "(64,)\n",
      "(64,)\n",
      "(64,)\n",
      "3\n",
      "(64,)\n",
      "(64,)\n",
      "(64,)\n",
      "(64,)\n",
      "(64,)\n",
      "4\n",
      "(64,)\n",
      "(64,)\n",
      "(64,)\n",
      "(64,)\n",
      "(64,)\n",
      "5\n",
      "(64,)\n",
      "(64,)\n",
      "(64,)\n",
      "(64,)\n",
      "(64,)\n",
      "6\n",
      "(64,)\n",
      "(64,)\n",
      "(64,)\n",
      "(64,)\n",
      "(64,)\n",
      "7\n",
      "(64,)\n",
      "(64,)\n",
      "(64,)\n",
      "(64,)\n",
      "(64,)\n",
      "8\n",
      "(64,)\n",
      "(64,)\n",
      "(64,)\n",
      "(64,)\n",
      "()\n",
      "9\n"
     ]
    },
    {
     "name": "stderr",
     "output_type": "stream",
     "text": [
      "/Users/ritikmalhotra/miniconda3/envs/av/lib/python3.8/site-packages/numpy/core/fromnumeric.py:3334: RuntimeWarning: Mean of empty slice.\n",
      "  return _methods._mean(a, axis=axis, dtype=dtype,\n",
      "/Users/ritikmalhotra/miniconda3/envs/av/lib/python3.8/site-packages/numpy/core/_methods.py:161: RuntimeWarning: invalid value encountered in double_scalars\n",
      "  ret = ret.dtype.type(ret / rcount)\n"
     ]
    },
    {
     "ename": "IndexError",
     "evalue": "invalid index to scalar variable.",
     "output_type": "error",
     "traceback": [
      "\u001b[0;31m---------------------------------------------------------------------------\u001b[0m",
      "\u001b[0;31mIndexError\u001b[0m                                Traceback (most recent call last)",
      "\u001b[0;32m<ipython-input-23-f05edd3351f5>\u001b[0m in \u001b[0;36m<module>\u001b[0;34m\u001b[0m\n\u001b[1;32m      6\u001b[0m \u001b[0;32mfor\u001b[0m \u001b[0mi\u001b[0m \u001b[0;32min\u001b[0m \u001b[0mrange\u001b[0m\u001b[0;34m(\u001b[0m\u001b[0;36m0\u001b[0m\u001b[0;34m,\u001b[0m\u001b[0mit\u001b[0m\u001b[0;34m)\u001b[0m\u001b[0;34m:\u001b[0m\u001b[0;34m\u001b[0m\u001b[0;34m\u001b[0m\u001b[0m\n\u001b[1;32m      7\u001b[0m     \u001b[0mprint\u001b[0m\u001b[0;34m(\u001b[0m\u001b[0mi\u001b[0m\u001b[0;34m)\u001b[0m\u001b[0;34m\u001b[0m\u001b[0;34m\u001b[0m\u001b[0m\n\u001b[0;32m----> 8\u001b[0;31m     \u001b[0midx\u001b[0m \u001b[0;34m=\u001b[0m \u001b[0mfindclosestcentroids\u001b[0m\u001b[0;34m(\u001b[0m\u001b[0mx_train\u001b[0m\u001b[0;34m,\u001b[0m\u001b[0mcentroid\u001b[0m\u001b[0;34m,\u001b[0m\u001b[0mk\u001b[0m\u001b[0;34m)\u001b[0m\u001b[0;34m\u001b[0m\u001b[0;34m\u001b[0m\u001b[0m\n\u001b[0m\u001b[1;32m      9\u001b[0m     \u001b[0mprevcentroid\u001b[0m \u001b[0;34m=\u001b[0m \u001b[0mcentroid\u001b[0m\u001b[0;34m\u001b[0m\u001b[0;34m\u001b[0m\u001b[0m\n\u001b[1;32m     10\u001b[0m     \u001b[0mcentroid\u001b[0m \u001b[0;34m=\u001b[0m \u001b[0mcomputeCentroid\u001b[0m\u001b[0;34m(\u001b[0m\u001b[0mx_train\u001b[0m\u001b[0;34m,\u001b[0m\u001b[0midx\u001b[0m\u001b[0;34m,\u001b[0m\u001b[0mk\u001b[0m\u001b[0;34m,\u001b[0m\u001b[0mprevcentroid\u001b[0m\u001b[0;34m)\u001b[0m\u001b[0;34m\u001b[0m\u001b[0;34m\u001b[0m\u001b[0m\n",
      "\u001b[0;32m<ipython-input-11-abedbd7e4a57>\u001b[0m in \u001b[0;36mfindclosestcentroids\u001b[0;34m(x, centroids, k)\u001b[0m\n\u001b[1;32m      6\u001b[0m         \u001b[0mtemp\u001b[0m \u001b[0;34m=\u001b[0m \u001b[0;34m[\u001b[0m\u001b[0;34m]\u001b[0m\u001b[0;34m\u001b[0m\u001b[0;34m\u001b[0m\u001b[0m\n\u001b[1;32m      7\u001b[0m         \u001b[0;32mfor\u001b[0m \u001b[0mj\u001b[0m \u001b[0;32min\u001b[0m \u001b[0mrange\u001b[0m\u001b[0;34m(\u001b[0m\u001b[0mlen\u001b[0m\u001b[0;34m(\u001b[0m\u001b[0mcentroids\u001b[0m\u001b[0;34m)\u001b[0m\u001b[0;34m)\u001b[0m\u001b[0;34m:\u001b[0m\u001b[0;34m\u001b[0m\u001b[0;34m\u001b[0m\u001b[0m\n\u001b[0;32m----> 8\u001b[0;31m             \u001b[0mdist\u001b[0m \u001b[0;34m=\u001b[0m \u001b[0meucledian_distance\u001b[0m\u001b[0;34m(\u001b[0m\u001b[0mx\u001b[0m\u001b[0;34m[\u001b[0m\u001b[0mi\u001b[0m\u001b[0;34m]\u001b[0m\u001b[0;34m,\u001b[0m\u001b[0mcentroids\u001b[0m\u001b[0;34m[\u001b[0m\u001b[0mj\u001b[0m\u001b[0;34m]\u001b[0m\u001b[0;34m)\u001b[0m\u001b[0;34m\u001b[0m\u001b[0;34m\u001b[0m\u001b[0m\n\u001b[0m\u001b[1;32m      9\u001b[0m             \u001b[0mtemp\u001b[0m\u001b[0;34m.\u001b[0m\u001b[0mappend\u001b[0m\u001b[0;34m(\u001b[0m\u001b[0mdist\u001b[0m\u001b[0;34m)\u001b[0m\u001b[0;34m\u001b[0m\u001b[0;34m\u001b[0m\u001b[0m\n\u001b[1;32m     10\u001b[0m         \u001b[0mindex\u001b[0m\u001b[0;34m.\u001b[0m\u001b[0mappend\u001b[0m\u001b[0;34m(\u001b[0m\u001b[0mnp\u001b[0m\u001b[0;34m.\u001b[0m\u001b[0margmax\u001b[0m\u001b[0;34m(\u001b[0m\u001b[0mtemp\u001b[0m\u001b[0;34m)\u001b[0m\u001b[0;34m)\u001b[0m\u001b[0;34m\u001b[0m\u001b[0;34m\u001b[0m\u001b[0m\n",
      "\u001b[0;32m<ipython-input-10-9857c2c2efb8>\u001b[0m in \u001b[0;36meucledian_distance\u001b[0;34m(v1, v2)\u001b[0m\n\u001b[1;32m      4\u001b[0m \u001b[0;34m\u001b[0m\u001b[0m\n\u001b[1;32m      5\u001b[0m     \u001b[0;32mfor\u001b[0m \u001b[0mi\u001b[0m \u001b[0;32min\u001b[0m \u001b[0mrange\u001b[0m \u001b[0;34m(\u001b[0m\u001b[0mlen\u001b[0m\u001b[0;34m(\u001b[0m\u001b[0mv1\u001b[0m\u001b[0;34m)\u001b[0m\u001b[0;34m)\u001b[0m\u001b[0;34m:\u001b[0m\u001b[0;34m\u001b[0m\u001b[0;34m\u001b[0m\u001b[0m\n\u001b[0;32m----> 6\u001b[0;31m         \u001b[0mdistance\u001b[0m \u001b[0;34m=\u001b[0m \u001b[0mdistance\u001b[0m \u001b[0;34m+\u001b[0m \u001b[0;34m(\u001b[0m\u001b[0mv1\u001b[0m\u001b[0;34m[\u001b[0m\u001b[0mi\u001b[0m\u001b[0;34m]\u001b[0m\u001b[0;34m-\u001b[0m\u001b[0mv2\u001b[0m\u001b[0;34m[\u001b[0m\u001b[0mi\u001b[0m\u001b[0;34m]\u001b[0m\u001b[0;34m)\u001b[0m\u001b[0;34m**\u001b[0m\u001b[0;36m2\u001b[0m\u001b[0;34m\u001b[0m\u001b[0;34m\u001b[0m\u001b[0m\n\u001b[0m\u001b[1;32m      7\u001b[0m \u001b[0;34m\u001b[0m\u001b[0m\n\u001b[1;32m      8\u001b[0m     \u001b[0;32mreturn\u001b[0m \u001b[0mnp\u001b[0m\u001b[0;34m.\u001b[0m\u001b[0msqrt\u001b[0m\u001b[0;34m(\u001b[0m\u001b[0mdistance\u001b[0m\u001b[0;34m)\u001b[0m\u001b[0;34m\u001b[0m\u001b[0;34m\u001b[0m\u001b[0m\n",
      "\u001b[0;31mIndexError\u001b[0m: invalid index to scalar variable."
     ]
    }
   ],
   "source": [
    "k = 5\n",
    "it = 100\n",
    "\n",
    "centroid = kmeansinitcentroids(x_train,k)\n",
    "\n",
    "for i in range(0,it):\n",
    "    print(i)\n",
    "    idx = findclosestcentroids(x_train,centroid,k) \n",
    "    prevcentroid = centroid\n",
    "    centroid = computeCentroid(x_train,idx,k,prevcentroid)\n",
    "    "
   ]
  },
  {
   "cell_type": "code",
   "execution_count": null,
   "metadata": {},
   "outputs": [],
   "source": [
    "def predict(x,centroid):\n",
    "    \n",
    "    cluster = []\n",
    "    \n",
    "    for i in range(len(x)):\n",
    "        distance = []\n",
    "        for j in range(len(centroid)):\n",
    "            dist = eucledian_distance(x[i],centroid[j])\n",
    "            distance.append(dist)\n",
    "        cluster.append(np.argmin(distance))\n",
    "        \n",
    "    return cluster"
   ]
  },
  {
   "cell_type": "code",
   "execution_count": 18,
   "metadata": {},
   "outputs": [
    {
     "data": {
      "text/plain": [
       "[array([0.00000000e+00, 2.78169014e-01, 6.65845070e+00, 1.29542254e+01,\n",
       "        1.24049296e+01, 6.20422535e+00, 7.81690141e-01, 0.00000000e+00,\n",
       "        0.00000000e+00, 2.67605634e+00, 1.36232394e+01, 1.00915493e+01,\n",
       "        9.92957746e+00, 1.13556338e+01, 1.46830986e+00, 7.04225352e-03,\n",
       "        0.00000000e+00, 4.08098592e+00, 1.13908451e+01, 3.53169014e+00,\n",
       "        6.01760563e+00, 1.09225352e+01, 2.26056338e+00, 0.00000000e+00,\n",
       "        0.00000000e+00, 3.32042254e+00, 9.13028169e+00, 6.98943662e+00,\n",
       "        8.69366197e+00, 1.01408451e+01, 3.53873239e+00, 0.00000000e+00,\n",
       "        0.00000000e+00, 2.31338028e+00, 4.93661972e+00, 2.82042254e+00,\n",
       "        4.51408451e+00, 1.11478873e+01, 5.35211268e+00, 0.00000000e+00,\n",
       "        0.00000000e+00, 1.52112676e+00, 5.07746479e+00, 5.38732394e-01,\n",
       "        1.35915493e+00, 1.08591549e+01, 6.55281690e+00, 0.00000000e+00,\n",
       "        0.00000000e+00, 1.02464789e+00, 1.01126761e+01, 6.63028169e+00,\n",
       "        7.18309859e+00, 1.25774648e+01, 4.82394366e+00, 4.22535211e-02,\n",
       "        0.00000000e+00, 2.18309859e-01, 6.84154930e+00, 1.38063380e+01,\n",
       "        1.37394366e+01, 8.07394366e+00, 1.66197183e+00, 1.44366197e-01]),\n",
       " array([0.00000000e+00, 1.40186916e-02, 1.01869159e+00, 1.01682243e+01,\n",
       "        1.06682243e+01, 2.01401869e+00, 8.87850467e-02, 0.00000000e+00,\n",
       "        0.00000000e+00, 1.26168224e-01, 6.42056075e+00, 1.45747664e+01,\n",
       "        7.69626168e+00, 2.28037383e+00, 2.42990654e-01, 9.34579439e-03,\n",
       "        0.00000000e+00, 9.85981308e-01, 1.25654206e+01, 1.00700935e+01,\n",
       "        1.45794393e+00, 3.35514019e+00, 1.51401869e+00, 5.14018692e-02,\n",
       "        0.00000000e+00, 3.36915888e+00, 1.46261682e+01, 6.15887850e+00,\n",
       "        3.08878505e+00, 6.41121495e+00, 3.38785047e+00, 4.67289720e-03,\n",
       "        0.00000000e+00, 5.83644860e+00, 1.49579439e+01, 9.35046729e+00,\n",
       "        9.45327103e+00, 1.17663551e+01, 4.25233645e+00, 0.00000000e+00,\n",
       "        4.20560748e-02, 4.18691589e+00, 1.47196262e+01, 1.01028037e+01,\n",
       "        7.85981308e+00, 1.12056075e+01, 6.20560748e+00, 9.81308411e-02,\n",
       "        4.20560748e-02, 7.61682243e-01, 9.11682243e+00, 1.11728972e+01,\n",
       "        9.38317757e+00, 9.80841121e+00, 5.95794393e+00, 2.71028037e-01,\n",
       "        0.00000000e+00, 3.73831776e-02, 1.28504673e+00, 9.96728972e+00,\n",
       "        1.42523364e+01, 8.57009346e+00, 2.36448598e+00, 7.00934579e-02]),\n",
       " array([0.00000000e+00, 4.11674347e-01, 5.92473118e+00, 1.17511521e+01,\n",
       "        1.20107527e+01, 6.73886329e+00, 1.84178187e+00, 1.90476190e-01,\n",
       "        9.21658986e-03, 2.28571429e+00, 1.03809524e+01, 1.21643625e+01,\n",
       "        1.13732719e+01, 8.62826421e+00, 2.35330261e+00, 1.38248848e-01,\n",
       "        3.07219662e-03, 2.40860215e+00, 8.48079877e+00, 7.61136713e+00,\n",
       "        9.35944700e+00, 7.89093702e+00, 1.59907834e+00, 5.83717358e-02,\n",
       "        1.53609831e-03, 1.87250384e+00, 7.55299539e+00, 1.04531490e+01,\n",
       "        1.23333333e+01, 6.58525346e+00, 1.38095238e+00, 3.07219662e-03,\n",
       "        0.00000000e+00, 1.30875576e+00, 6.57296467e+00, 1.17619048e+01,\n",
       "        1.29892473e+01, 6.79723502e+00, 1.44086022e+00, 0.00000000e+00,\n",
       "        0.00000000e+00, 8.63287250e-01, 5.42242704e+00, 9.15360983e+00,\n",
       "        1.03364055e+01, 6.37019969e+00, 1.19969278e+00, 1.07526882e-02,\n",
       "        4.60829493e-03, 6.00614439e-01, 6.19815668e+00, 1.03271889e+01,\n",
       "        1.05330261e+01, 6.99846390e+00, 2.45007680e+00, 2.38095238e-01,\n",
       "        1.53609831e-03, 4.02457757e-01, 6.39324117e+00, 1.18955453e+01,\n",
       "        1.04393241e+01, 5.76190476e+00, 2.15821813e+00, 5.34562212e-01])]"
      ]
     },
     "execution_count": 18,
     "metadata": {},
     "output_type": "execute_result"
    }
   ],
   "source": [
    "\n"
   ]
  },
  {
   "cell_type": "code",
   "execution_count": 39,
   "metadata": {},
   "outputs": [
    {
     "data": {
      "image/png": "[encoded data removed]",
      "text/plain": [
       "<Figure size 1440x288 with 3 Axes>"
      ]
     },
     "metadata": {
      "needs_background": "light"
     },
     "output_type": "display_data"
    }
   ],
   "source": [
    "\n",
    "import matplotlib.pyplot as plt\n",
    "plt.figure(figsize=(20,4))\n",
    "for index,(image) in enumerate(zip(centroid[0:3])):\n",
    "    plt.subplot(1,5, index + 1)\n",
    "    plt.imshow(np.reshape(image, (8,8)), cmap=plt.cm.gray)\n"
   ]
  },
  {
   "cell_type": "code",
   "execution_count": null,
   "metadata": {},
   "outputs": [],
   "source": []
  },
  {
   "cell_type": "code",
   "execution_count": null,
   "metadata": {},
   "outputs": [],
   "source": [
    "\n"
   ]
  },
  {
   "cell_type": "code",
   "execution_count": null,
   "metadata": {},
   "outputs": [],
   "source": []
  }
 ],
 "metadata": {
  "kernelspec": {
   "display_name": "Python 3",
   "language": "python",
   "name": "python3"
  },
  "language_info": {
   "codemirror_mode": {
    "name": "ipython",
    "version": 3
   },
   "file_extension": ".py",
   "mimetype": "text/x-python",
   "name": "python",
   "nbconvert_exporter": "python",
   "pygments_lexer": "ipython3",
   "version": "3.8.2"
  }
 },
 "nbformat": 4,
 "nbformat_minor": 4
}
