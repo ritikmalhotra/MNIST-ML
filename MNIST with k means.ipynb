{
 "cells": [
  {
   "cell_type": "markdown",
   "metadata": {},
   "source": [
    "# MNIST using K-Means Clustering"
   ]
  },
  {
   "cell_type": "code",
   "execution_count": 1,
   "metadata": {},
   "outputs": [],
   "source": [
    "import numpy as np"
   ]
  },
  {
   "cell_type": "code",
   "execution_count": 2,
   "metadata": {},
   "outputs": [],
   "source": [
    "from sklearn.datasets import load_digits\n",
    "digits = load_digits()"
   ]
  },
  {
   "cell_type": "code",
   "execution_count": 3,
   "metadata": {},
   "outputs": [],
   "source": [
    "from sklearn.model_selection import train_test_split\n",
    "x_train, x_test, y_train, y_test = train_test_split(digits.data, digits.target,test_size=0.20, random_state=0)\n",
    "x_train, x_validation, y_train, y_validation = train_test_split(x_train, y_train,test_size=0.20, random_state=0)"
   ]
  },
  {
   "cell_type": "code",
   "execution_count": 4,
   "metadata": {},
   "outputs": [],
   "source": [
    "def kmeansinitcentroids(X,k):\n",
    "    centroids = X\n",
    "    np.random.seed(8)\n",
    "    np.random.shuffle(centroids)\n",
    "    return centroids[:k,:]"
   ]
  },
  {
   "cell_type": "code",
   "execution_count": 5,
   "metadata": {},
   "outputs": [],
   "source": [
    "def eucledian_distance(v1,v2):\n",
    "    \n",
    "    distance = 0\n",
    "    \n",
    "    for i in range (len(v1)):\n",
    "        distance = distance + (v1[i]-v2[i])**2\n",
    "        \n",
    "    return np.sqrt(distance)"
   ]
  },
  {
   "cell_type": "code",
   "execution_count": 6,
   "metadata": {},
   "outputs": [],
   "source": [
    "def findclosestcentroids(x,centroids,k):\n",
    "    \n",
    "    index = []\n",
    "    \n",
    "    for i in range(len(x)):\n",
    "        temp = []\n",
    "        for j in range(len(centroids)):\n",
    "            dist = eucledian_distance(x[i],centroids[j])\n",
    "            temp.append(dist)\n",
    "        index.append(np.argmin(temp))\n",
    "    \n",
    "    return index   "
   ]
  },
  {
   "cell_type": "code",
   "execution_count": 7,
   "metadata": {},
   "outputs": [],
   "source": [
    "def computeCentroidnotmean(x,index,k,prevcentroid):\n",
    "    centroids = []\n",
    "\n",
    "    for i in range(k):\n",
    "        temp = []\n",
    "        for j in range(len(index)):\n",
    "            if(index[j] == i):\n",
    "                temp.append(x[j])\n",
    "            \n",
    "        y = np.mean(temp,axis = 0)\n",
    "        temp2 = []\n",
    "        \n",
    "        for z in range(len(temp)):\n",
    "            dist = eucledian_distance(y,temp[z])\n",
    "            temp2.append(dist)\n",
    "        z = np.argmin(temp2)\n",
    "        \n",
    "        centroids.append(temp[z])\n",
    "\n",
    "    return centroids  "
   ]
  },
  {
   "cell_type": "code",
   "execution_count": 8,
   "metadata": {},
   "outputs": [],
   "source": [
    "def computeCentroid(x,index,k,prevcentroid):\n",
    "    centroids = []\n",
    "\n",
    "    for i in range(k):\n",
    "        temp = []\n",
    "        for j in range(len(index)):\n",
    "            if(index[j] == i):\n",
    "                temp.append(x[j])\n",
    "            \n",
    "        y = np.mean(temp,axis = 0)\n",
    "        print(y.shape)\n",
    "        centroids.append(y)\n",
    "\n",
    "    return centroids  "
   ]
  },
  {
   "cell_type": "code",
   "execution_count": null,
   "metadata": {},
   "outputs": [],
   "source": []
  },
  {
   "cell_type": "code",
   "execution_count": 9,
   "metadata": {},
   "outputs": [],
   "source": [
    "k = 10\n",
    "it = 100\n",
    "\n",
    "centroid = kmeansinitcentroids(x_train,k)\n",
    "for i in range(0,it):\n",
    "    idx = findclosestcentroids(x_train,centroid,k) \n",
    "    prevcentroid = centroid\n",
    "    centroid = computeCentroidnotmean(x_train,idx,k,prevcentroid)\n",
    "    "
   ]
  },
  {
   "cell_type": "code",
   "execution_count": 10,
   "metadata": {},
   "outputs": [],
   "source": [
    "def predict(x,centroid):\n",
    "    \n",
    "    cluster = []\n",
    "    \n",
    "    for i in range(len(x)):\n",
    "        distance = []\n",
    "        for j in range(len(centroid)):\n",
    "            dist = eucledian_distance(x[i],centroid[j])\n",
    "            distance.append(dist)\n",
    "        cluster.append(np.argmin(distance))\n",
    "        \n",
    "    return cluster"
   ]
  },
  {
   "cell_type": "code",
   "execution_count": 11,
   "metadata": {},
   "outputs": [
    {
     "data": {
      "text/plain": [
       "10"
      ]
     },
     "execution_count": 11,
     "metadata": {},
     "output_type": "execute_result"
    }
   ],
   "source": [
    "len(centroid)"
   ]
  },
  {
   "cell_type": "code",
   "execution_count": 12,
   "metadata": {},
   "outputs": [
    {
     "data": {
      "image/png": "[encoded data removed]",
      "text/plain": [
       "<Figure size 1440x288 with 10 Axes>"
      ]
     },
     "metadata": {
      "needs_background": "light"
     },
     "output_type": "display_data"
    }
   ],
   "source": [
    "import matplotlib.pyplot as plt\n",
    "plt.figure(figsize=(20,4))\n",
    "for index,(image) in enumerate(zip(centroid[0:10])):\n",
    "    plt.subplot(1,10, index + 1)\n",
    "    plt.imshow(np.reshape(image, (8,8)), cmap=plt.cm.gray)\n"
   ]
  },
  {
   "cell_type": "code",
   "execution_count": null,
   "metadata": {},
   "outputs": [],
   "source": []
  },
  {
   "cell_type": "code",
   "execution_count": null,
   "metadata": {},
   "outputs": [],
   "source": [
    "\n"
   ]
  },
  {
   "cell_type": "code",
   "execution_count": null,
   "metadata": {},
   "outputs": [],
   "source": []
  }
 ],
 "metadata": {
  "kernelspec": {
   "display_name": "Python 3",
   "language": "python",
   "name": "python3"
  },
  "language_info": {
   "codemirror_mode": {
    "name": "ipython",
    "version": 3
   },
   "file_extension": ".py",
   "mimetype": "text/x-python",
   "name": "python",
   "nbconvert_exporter": "python",
   "pygments_lexer": "ipython3",
   "version": "3.8.2"
  }
 },
 "nbformat": 4,
 "nbformat_minor": 4
}
